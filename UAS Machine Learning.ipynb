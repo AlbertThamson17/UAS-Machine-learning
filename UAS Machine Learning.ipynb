{
 "cells": [
  {
   "cell_type": "code",
   "execution_count": 1,
   "metadata": {},
   "outputs": [],
   "source": [
    "import pandas as pd\n",
    "import numpy as np\n",
    "import matplotlib as plt\n",
    "import matplotlib.pyplot as pyp\n",
    "import seaborn as sns\n",
    "from sklearn.model_selection import train_test_split\n",
    "from sklearn.linear_model import LogisticRegression,LinearRegression\n",
    "from sklearn.metrics import classification_report, confusion_matrix ,accuracy_score\n",
    "from sklearn.metrics import mean_squared_error, mean_absolute_error, r2_score\n",
    "from sklearn.feature_selection import RFE,RFECV\n",
    "from sklearn.neighbors import KNeighborsClassifier\n",
    "from sklearn.svm import SVC\n",
    "from sklearn.tree import DecisionTreeClassifier\n",
    "from sklearn.preprocessing import OneHotEncoder, MinMaxScaler, OrdinalEncoder, StandardScaler\n",
    "from sklearn.decomposition import PCA\n",
    "from sklearn.cluster import KMeans\n",
    "from sklearn.mixture import GaussianMixture\n",
    "from sklearn.metrics import silhouette_score"
   ]
  },
  {
   "cell_type": "code",
   "execution_count": 2,
   "metadata": {},
   "outputs": [
    {
     "name": "stderr",
     "output_type": "stream",
     "text": [
      "C:\\Users\\Albert\\Anaconda3\\lib\\site-packages\\IPython\\core\\interactiveshell.py:3058: DtypeWarning: Columns (50,51,52,53,54,55,56,57,58,62,63,64,66,69,70,78,79,81,82,83,84,85) have mixed types. Specify dtype option on import or set low_memory=False.\n",
      "  interactivity=interactivity, compiler=compiler, result=result)\n"
     ]
    }
   ],
   "source": [
    "data = pd.read_csv(\"dataset.csv\")\n",
    "data = data.loc[:, ~data.columns.str.contains('^Unnamed')]"
   ]
  },
  {
   "cell_type": "code",
   "execution_count": 3,
   "metadata": {},
   "outputs": [
    {
     "data": {
      "text/plain": [
       "False"
      ]
     },
     "execution_count": 3,
     "metadata": {},
     "output_type": "execute_result"
    }
   ],
   "source": [
    "data = data.dropna()\n",
    "data.isna().values.any()"
   ]
  },
  {
   "cell_type": "code",
   "execution_count": 4,
   "metadata": {},
   "outputs": [
    {
     "name": "stdout",
     "output_type": "stream",
     "text": [
      "             id    host_id host_name host_response_time host_response_rate  \\\n",
      "10032  39617523  128821251     Akira     within an hour               100%   \n",
      "5978   31838125  160236490      Mari     within an hour               100%   \n",
      "2313   22152081  161213332    Nozomi     within an hour               100%   \n",
      "4624   29193421   30324135      DoMo     within an hour               100%   \n",
      "10155  39765960  305655334       Bin     within an hour               100%   \n",
      "...         ...        ...       ...                ...                ...   \n",
      "11591  41565774  276746465     Donna     within an hour                80%   \n",
      "8855   37867330  256531617       Hiz     within an hour               100%   \n",
      "480     9950061   49482083       Rui     within an hour               100%   \n",
      "6484   32762234  191792045      Ozat     within an hour               100%   \n",
      "3735   27239223  205161247     Akane     within an hour               100%   \n",
      "\n",
      "      host_acceptance_rate host_neighbourhood host_listings_count  \\\n",
      "10032                 100%   Toshima District                  31   \n",
      "5978                  100%       Asakusa/Ueno                   5   \n",
      "2313                  100%   Chiyoda District                  77   \n",
      "4624                   84%           Shinjuku                  42   \n",
      "10155                 100%  Shinjuku District                   1   \n",
      "...                    ...                ...                 ...   \n",
      "11591                 100%   Arakawa District                   0   \n",
      "8855                  100%      Chūō District                  56   \n",
      "480                    97%  Shinjuku District                   4   \n",
      "6484                   99%    Nakano District                   3   \n",
      "3735                  100%            Shibuya                   1   \n",
      "\n",
      "      host_total_listings_count      neighbourhood  ... minimum_nights  \\\n",
      "10032                        31   Toshima District  ...              1   \n",
      "5978                          5       Asakusa/Ueno  ...              4   \n",
      "2313                         77   Chiyoda District  ...             30   \n",
      "4624                         42  Shinjuku District  ...              1   \n",
      "10155                         1  Shinjuku District  ...              1   \n",
      "...                         ...                ...  ...            ...   \n",
      "11591                         0   Arakawa District  ...              1   \n",
      "8855                         56      Chūō District  ...              2   \n",
      "480                           4  Shinjuku District  ...              3   \n",
      "6484                          3    Nakano District  ...              2   \n",
      "3735                          1   Shibuya District  ...              1   \n",
      "\n",
      "      maximum_nights minimum_minimum_nights maximum_minimum_nights  \\\n",
      "10032             90                      1                      1   \n",
      "5978            1124                      4                      4   \n",
      "2313            1124                     29                     30   \n",
      "4624            1125                      1                      1   \n",
      "10155           1125                      1                      1   \n",
      "...              ...                    ...                    ...   \n",
      "11591           1125                      1                      1   \n",
      "8855              90                      2                      2   \n",
      "480             1125                      3                      3   \n",
      "6484             365                      2                      2   \n",
      "3735              30                      1                      1   \n",
      "\n",
      "      minimum_maximum_nights maximum_maximum_nights number_of_reviews  \\\n",
      "10032                     90                     90                 1   \n",
      "5978                    1125                   1125                36   \n",
      "2313                    1124                   1124                25   \n",
      "4624                    1125                   1125                30   \n",
      "10155                   1125                   1125                13   \n",
      "...                      ...                    ...               ...   \n",
      "11591                   1125                   1125                 1   \n",
      "8855                      90                     90                20   \n",
      "480                     1125                   1125                26   \n",
      "6484                    1125                   1125                87   \n",
      "3735                    1125                   1125                61   \n",
      "\n",
      "      number_of_reviews_ltm review_scores_rating reviews_per_month  \n",
      "10032                     1                  100              0.28  \n",
      "5978                     28                   96              2.43  \n",
      "2313                      3                   96                 0  \n",
      "4624                     18                   94              1.68  \n",
      "10155                    13                   92              2.22  \n",
      "...                     ...                  ...               ...  \n",
      "11591                     1                   60               0.3  \n",
      "8855                     20                   97              2.56  \n",
      "480                       9                   97              0.49  \n",
      "6484                     73                   94              6.29  \n",
      "3735                     32                   95              2.94  \n",
      "\n",
      "[6861 rows x 30 columns]\n"
     ]
    }
   ],
   "source": [
    "#train split data dengan train 80% test 20%\n",
    "train, test = train_test_split(data, test_size = 0.2)\n",
    "print(train)"
   ]
  },
  {
   "cell_type": "code",
   "execution_count": 5,
   "metadata": {},
   "outputs": [
    {
     "name": "stdout",
     "output_type": "stream",
     "text": [
      "             id    host_id    host_name host_response_time host_response_rate  \\\n",
      "8476   36991651  277018146     Florence     within an hour               100%   \n",
      "8551   37132706   58103809         Yong     within an hour               100%   \n",
      "3910   27640978  162218189       Tosaya     within an hour               100%   \n",
      "4833   29575505  220149769        Henna     within an hour               100%   \n",
      "6773   33316313   25379608         Yuki     within an hour               100%   \n",
      "...         ...        ...          ...                ...                ...   \n",
      "6964   33647367  252888067      Takeshi     within an hour               100%   \n",
      "4819   29573426  220149769        Henna     within an hour               100%   \n",
      "5146   30170575   75565461  Seiji ,Yoko     within an hour               100%   \n",
      "1794   20287721  144708166         Yuka     within an hour               100%   \n",
      "11464  41385463  271703741      Shizuka     within an hour               100%   \n",
      "\n",
      "      host_acceptance_rate host_neighbourhood host_listings_count  \\\n",
      "8476                  100%  Shinjuku District                   8   \n",
      "8551                  100%      Shimokitazawa                   7   \n",
      "3910                  100%   Toshima District                  28   \n",
      "4833                  100%  Shinjuku District                  83   \n",
      "6773                  100%       Asakusa/Ueno                   2   \n",
      "...                    ...                ...                 ...   \n",
      "6964                  100%      Koto District                  16   \n",
      "4819                  100%  Shinjuku District                  83   \n",
      "5146                  100%  Setagaya District                   2   \n",
      "1794                  100%  Itabashi District                   3   \n",
      "11464                  99%  Shinjuku District                  11   \n",
      "\n",
      "      host_total_listings_count      neighbourhood  ... minimum_nights  \\\n",
      "8476                          8  Shinjuku District  ...              1   \n",
      "8551                          7    Bunkyo District  ...              2   \n",
      "3910                         28  Shinjuku District  ...              1   \n",
      "4833                         83  Shinjuku District  ...              1   \n",
      "6773                          2  Shinjuku District  ...              1   \n",
      "...                         ...                ...  ...            ...   \n",
      "6964                         16      Chūō District  ...              1   \n",
      "4819                         83  Shinjuku District  ...              1   \n",
      "5146                          2  Setagaya District  ...              4   \n",
      "1794                          3  Itabashi District  ...              1   \n",
      "11464                        11  Shinjuku District  ...             30   \n",
      "\n",
      "      maximum_nights minimum_minimum_nights maximum_minimum_nights  \\\n",
      "8476              31                      1                      1   \n",
      "8551            1125                      2                      2   \n",
      "3910            1125                      1                      1   \n",
      "4833              31                      1                      1   \n",
      "6773              90                      1                      1   \n",
      "...              ...                    ...                    ...   \n",
      "6964              75                      1                      4   \n",
      "4819              31                      1                      1   \n",
      "5146              30                      4                      4   \n",
      "1794              31                      1                      1   \n",
      "11464           1125                     30                     30   \n",
      "\n",
      "      minimum_maximum_nights maximum_maximum_nights number_of_reviews  \\\n",
      "8476                    1125                   1125                20   \n",
      "8551                    1125                   1125                13   \n",
      "3910                    1125                   1125                25   \n",
      "4833                    1125                   1125                 5   \n",
      "6773                      90                     90                32   \n",
      "...                      ...                    ...               ...   \n",
      "6964                      75                     75                 7   \n",
      "4819                    1125                   1125                18   \n",
      "5146                      30                     30                30   \n",
      "1794                      31                     31                38   \n",
      "11464                   1125                   1125                 2   \n",
      "\n",
      "      number_of_reviews_ltm review_scores_rating reviews_per_month  \n",
      "8476                     20                   91              2.28  \n",
      "8551                     13                   97              1.66  \n",
      "3910                     12                   80               1.5  \n",
      "4833                      2                   60              0.29  \n",
      "6773                     29                   96              2.51  \n",
      "...                     ...                  ...               ...  \n",
      "6964                      7                   69              0.71  \n",
      "4819                      7                   83              1.08  \n",
      "5146                     19                   96              1.78  \n",
      "1794                      5                   81              1.16  \n",
      "11464                     2                  100              0.71  \n",
      "\n",
      "[1716 rows x 30 columns]\n"
     ]
    }
   ],
   "source": [
    "print(test)"
   ]
  },
  {
   "cell_type": "code",
   "execution_count": 6,
   "metadata": {},
   "outputs": [
    {
     "data": {
      "text/plain": [
       "within an hour             7758\n",
       "within a few hours          571\n",
       "within a day                206\n",
       "a few days or more           15\n",
       "Chuo City, Tokyo, Japan       7\n",
       "Tokyo, Japan                  5\n",
       "Sumida, Tokyo, Japan          3\n",
       "JP                            3\n",
       "Shinjuku, Tokyo, Japan        2\n",
       "tokyo                         2\n",
       "Shibuya, Tokyo, Japan         1\n",
       "Nakano, Tokyo, Japan          1\n",
       "Japan                         1\n",
       "Tokyo, Tokyo, Japan           1\n",
       "Zhengzhou, Henan, China       1\n",
       "Name: host_response_time, dtype: int64"
      ]
     },
     "execution_count": 6,
     "metadata": {},
     "output_type": "execute_result"
    }
   ],
   "source": [
    "#cek data kotor\n",
    "data['host_response_time'].value_counts()"
   ]
  },
  {
   "cell_type": "code",
   "execution_count": 7,
   "metadata": {},
   "outputs": [
    {
     "data": {
      "text/plain": [
       "Shinjuku District                                                                                             1500\n",
       "Asakusa/Ueno                                                                                                  1149\n",
       "Sumida District                                                                                                708\n",
       "Toshima District                                                                                               705\n",
       "Shibuya District                                                                                               418\n",
       "                                                                                                              ... \n",
       "Nakameguro                                                                                                       1\n",
       "https://a0.muscache.com/im/pictures/user/dc7a2ec7-1723-40fa-9dfc-81bce5a726f1.jpg?aki_policy=profile_small       1\n",
       "https://a0.muscache.com/im/users/13113365/profile_pic/1394775310/original.jpg?aki_policy=profile_small           1\n",
       "https://a0.muscache.com/im/pictures/user/be163aab-8537-4158-b58c-3f97ebbc5988.jpg?aki_policy=profile_small       1\n",
       "https://a0.muscache.com/im/pictures/user/3953dbe6-fc7f-4fc8-aab9-b1618bf2f29e.jpg?aki_policy=profile_small       1\n",
       "Name: host_neighbourhood, Length: 76, dtype: int64"
      ]
     },
     "execution_count": 7,
     "metadata": {},
     "output_type": "execute_result"
    }
   ],
   "source": [
    "#cek data kotor\n",
    "data['host_neighbourhood'].value_counts()"
   ]
  },
  {
   "cell_type": "code",
   "execution_count": 8,
   "metadata": {},
   "outputs": [
    {
     "data": {
      "text/plain": [
       "Shinjuku District      1596\n",
       "Toshima District        942\n",
       "Sumida District         860\n",
       "Asakusa/Ueno            635\n",
       "Shibuya District        600\n",
       "Taito District          541\n",
       "Minato District         328\n",
       "Nakano District         287\n",
       "Suginami District       260\n",
       "Setagaya District       259\n",
       "Chūō District           234\n",
       "Arakawa District        215\n",
       "Itabashi District       212\n",
       "Kita District           203\n",
       "Katsushika District     187\n",
       "Shinjuku                177\n",
       "Shibuya                 163\n",
       "Ikebukuro               154\n",
       "Bunkyo District         134\n",
       "Chiyoda District        118\n",
       "Meguro District          99\n",
       "Nerima District          61\n",
       "Shimokitazawa            55\n",
       "Akasaka                  45\n",
       "Edogawa District         41\n",
       "Adachi District          32\n",
       "Ebisu/Daikanyama         27\n",
       "Tsukishima               22\n",
       "Tsukiji                  19\n",
       "t                        15\n",
       "Roppongi                 14\n",
       "f                        12\n",
       "Aoyama                   11\n",
       "Ginza                    10\n",
       "Akihabara                 5\n",
       "Harajuku                  2\n",
       "Nakameguro                1\n",
       "Roppongi Hills            1\n",
       "Name: neighbourhood, dtype: int64"
      ]
     },
     "execution_count": 8,
     "metadata": {},
     "output_type": "execute_result"
    }
   ],
   "source": [
    "#cek data kotor\n",
    "data['neighbourhood'].value_counts()"
   ]
  },
  {
   "cell_type": "code",
   "execution_count": 9,
   "metadata": {},
   "outputs": [],
   "source": [
    "# classi = data[['host_response_rate','host_total_listings_count','minimum_nights','maximum_nights','minimum_minimum_nights','maximum_minimum_nights','minimum_maximum_nights','maximum_maximum_nights','number_of_reviews','number_of_reviews_ltm','reviews_per_month','price','review_scores_rating']]\n",
    "# Xclassi = data[['host_response_rate','host_total_listings_count','minimum_nights','maximum_nights','minimum_minimum_nights','maximum_minimum_nights','minimum_maximum_nights','maximum_maximum_nights','number_of_reviews','number_of_reviews_ltm','reviews_per_month','price']]\n",
    "# Yclassi = data[['review_scores_rating']]\n",
    "# print(Xclassi)"
   ]
  },
  {
   "cell_type": "code",
   "execution_count": 10,
   "metadata": {},
   "outputs": [],
   "source": [
    "# print(Yclassi)"
   ]
  },
  {
   "cell_type": "code",
   "execution_count": 11,
   "metadata": {},
   "outputs": [],
   "source": [
    "# print(classi)"
   ]
  },
  {
   "cell_type": "code",
   "execution_count": 12,
   "metadata": {},
   "outputs": [],
   "source": [
    "# data['host_response_rate'].str.replace(r'%', r'.0').astype('float') / 100.0"
   ]
  },
  {
   "cell_type": "code",
   "execution_count": 13,
   "metadata": {},
   "outputs": [],
   "source": [
    "# p2f(Xclassi)"
   ]
  },
  {
   "cell_type": "code",
   "execution_count": 14,
   "metadata": {},
   "outputs": [],
   "source": [
    "# for i in data['host_response_time'] :\n",
    "#     if i == \"within an hour\":\n",
    "#         i == 4\n",
    "#     elif i == \"within a few hours\":\n",
    "#         i == 3\n",
    "#     elif i == \"within a day\":\n",
    "#         i == 2\n",
    "#     elif i == \"a few days or more\":\n",
    "#         i == 1\n",
    "#     else:\n",
    "#         i == 0"
   ]
  },
  {
   "cell_type": "code",
   "execution_count": 15,
   "metadata": {},
   "outputs": [],
   "source": [
    "# def dropdata(x):\n",
    "#     for i in x :\n",
    "#         if i == 'within an hour':\n",
    "#             i=4\n",
    "#             return\n",
    "#         elif i == 'within a few hours' :\n",
    "#             i=3\n",
    "#             return\n",
    "#         elif i == 'within a day':\n",
    "#             i=2\n",
    "#             return\n",
    "#         elif i == 'a few days or more':\n",
    "#             i=1\n",
    "#             return\n",
    "#         else:\n",
    "#             i=0\n",
    "#             return"
   ]
  },
  {
   "cell_type": "code",
   "execution_count": 16,
   "metadata": {},
   "outputs": [],
   "source": [
    "# data['host_acceptance_rate'].value_counts()"
   ]
  },
  {
   "cell_type": "code",
   "execution_count": 17,
   "metadata": {},
   "outputs": [],
   "source": [
    "# data['host_listings_count'].value_counts()"
   ]
  },
  {
   "cell_type": "code",
   "execution_count": 18,
   "metadata": {},
   "outputs": [],
   "source": [
    "# data['minimum_maximum_nights'].value_counts()"
   ]
  },
  {
   "cell_type": "code",
   "execution_count": 19,
   "metadata": {},
   "outputs": [],
   "source": [
    "# data['id'].value_counts()"
   ]
  },
  {
   "cell_type": "code",
   "execution_count": 20,
   "metadata": {},
   "outputs": [],
   "source": [
    "# dropdata = dropdata(data['host_response_time'])\n",
    "# print(dropdata)"
   ]
  },
  {
   "cell_type": "code",
   "execution_count": 21,
   "metadata": {},
   "outputs": [],
   "source": [
    "# data['host_response_time'].value_counts()"
   ]
  },
  {
   "cell_type": "code",
   "execution_count": 22,
   "metadata": {},
   "outputs": [],
   "source": [
    "#drop data kotor dari kolom host rersponse time\n",
    "data.drop(data[data['host_response_time'] == 'Chuo City, Tokyo, Japan'].index, inplace = True) \n",
    "data.drop(data[data['host_response_time'] == 'Tokyo, Japan'].index, inplace = True) \n",
    "data.drop(data[data['host_response_time'] == 'Sumida, Tokyo, Japan'].index, inplace = True) \n",
    "data.drop(data[data['host_response_time'] == 'JP'].index, inplace = True) \n",
    "data.drop(data[data['host_response_time'] == 'Shinjuku, Tokyo, Japan'].index, inplace = True) \n",
    "data.drop(data[data['host_response_time'] == 'tokyo'].index, inplace = True) \n",
    "data.drop(data[data['host_response_time'] == 'Zhengzhou, Henan, China'].index, inplace = True) \n",
    "data.drop(data[data['host_response_time'] == 'Shibuya, Tokyo, Japan'].index, inplace = True) \n",
    "data.drop(data[data['host_response_time'] == 'Tokyo, Tokyo, Japan'].index, inplace = True) \n",
    "data.drop(data[data['host_response_time'] == 'Nakano, Tokyo, Japan'].index, inplace = True) \n",
    "data.drop(data[data['host_response_time'] == 'Japan'].index, inplace = True) "
   ]
  },
  {
   "cell_type": "code",
   "execution_count": 23,
   "metadata": {},
   "outputs": [
    {
     "data": {
      "text/plain": [
       "within an hour        7758\n",
       "within a few hours     571\n",
       "within a day           206\n",
       "a few days or more      15\n",
       "Name: host_response_time, dtype: int64"
      ]
     },
     "execution_count": 23,
     "metadata": {},
     "output_type": "execute_result"
    }
   ],
   "source": [
    "data['host_response_time'].value_counts()"
   ]
  },
  {
   "cell_type": "code",
   "execution_count": 24,
   "metadata": {},
   "outputs": [
    {
     "data": {
      "text/html": [
       "<div>\n",
       "<style scoped>\n",
       "    .dataframe tbody tr th:only-of-type {\n",
       "        vertical-align: middle;\n",
       "    }\n",
       "\n",
       "    .dataframe tbody tr th {\n",
       "        vertical-align: top;\n",
       "    }\n",
       "\n",
       "    .dataframe thead th {\n",
       "        text-align: right;\n",
       "    }\n",
       "</style>\n",
       "<table border=\"1\" class=\"dataframe\">\n",
       "  <thead>\n",
       "    <tr style=\"text-align: right;\">\n",
       "      <th></th>\n",
       "      <th>id</th>\n",
       "      <th>host_id</th>\n",
       "      <th>host_name</th>\n",
       "      <th>host_response_time</th>\n",
       "      <th>host_response_rate</th>\n",
       "      <th>host_acceptance_rate</th>\n",
       "      <th>host_neighbourhood</th>\n",
       "      <th>host_listings_count</th>\n",
       "      <th>host_total_listings_count</th>\n",
       "      <th>neighbourhood</th>\n",
       "      <th>...</th>\n",
       "      <th>minimum_nights</th>\n",
       "      <th>maximum_nights</th>\n",
       "      <th>minimum_minimum_nights</th>\n",
       "      <th>maximum_minimum_nights</th>\n",
       "      <th>minimum_maximum_nights</th>\n",
       "      <th>maximum_maximum_nights</th>\n",
       "      <th>number_of_reviews</th>\n",
       "      <th>number_of_reviews_ltm</th>\n",
       "      <th>review_scores_rating</th>\n",
       "      <th>reviews_per_month</th>\n",
       "    </tr>\n",
       "  </thead>\n",
       "  <tbody>\n",
       "    <tr>\n",
       "      <td>1</td>\n",
       "      <td>197677</td>\n",
       "      <td>964081</td>\n",
       "      <td>Yoshimi &amp; Marek</td>\n",
       "      <td>within a few hours</td>\n",
       "      <td>100%</td>\n",
       "      <td>88%</td>\n",
       "      <td>Sumida District</td>\n",
       "      <td>1</td>\n",
       "      <td>1</td>\n",
       "      <td>Sumida District</td>\n",
       "      <td>...</td>\n",
       "      <td>3</td>\n",
       "      <td>365</td>\n",
       "      <td>3</td>\n",
       "      <td>3</td>\n",
       "      <td>365</td>\n",
       "      <td>365</td>\n",
       "      <td>165</td>\n",
       "      <td>11</td>\n",
       "      <td>95</td>\n",
       "      <td>1.57</td>\n",
       "    </tr>\n",
       "    <tr>\n",
       "      <td>2</td>\n",
       "      <td>289597</td>\n",
       "      <td>341577</td>\n",
       "      <td>Hide&amp;Kei</td>\n",
       "      <td>within a few hours</td>\n",
       "      <td>100%</td>\n",
       "      <td>82%</td>\n",
       "      <td>Nerima District</td>\n",
       "      <td>2</td>\n",
       "      <td>2</td>\n",
       "      <td>Nerima District</td>\n",
       "      <td>...</td>\n",
       "      <td>28</td>\n",
       "      <td>180</td>\n",
       "      <td>1</td>\n",
       "      <td>30</td>\n",
       "      <td>180</td>\n",
       "      <td>180</td>\n",
       "      <td>113</td>\n",
       "      <td>7</td>\n",
       "      <td>95</td>\n",
       "      <td>1.18</td>\n",
       "    </tr>\n",
       "    <tr>\n",
       "      <td>3</td>\n",
       "      <td>370759</td>\n",
       "      <td>1573631</td>\n",
       "      <td>Gilles,Mayumi,Taiki</td>\n",
       "      <td>within a day</td>\n",
       "      <td>100%</td>\n",
       "      <td>93%</td>\n",
       "      <td>Setagaya District</td>\n",
       "      <td>3</td>\n",
       "      <td>3</td>\n",
       "      <td>Setagaya District</td>\n",
       "      <td>...</td>\n",
       "      <td>28</td>\n",
       "      <td>720</td>\n",
       "      <td>28</td>\n",
       "      <td>28</td>\n",
       "      <td>720</td>\n",
       "      <td>720</td>\n",
       "      <td>103</td>\n",
       "      <td>5</td>\n",
       "      <td>95</td>\n",
       "      <td>1.39</td>\n",
       "    </tr>\n",
       "    <tr>\n",
       "      <td>4</td>\n",
       "      <td>700253</td>\n",
       "      <td>341577</td>\n",
       "      <td>Hide&amp;Kei</td>\n",
       "      <td>within a few hours</td>\n",
       "      <td>100%</td>\n",
       "      <td>82%</td>\n",
       "      <td>Nerima District</td>\n",
       "      <td>2</td>\n",
       "      <td>2</td>\n",
       "      <td>Nerima District</td>\n",
       "      <td>...</td>\n",
       "      <td>28</td>\n",
       "      <td>180</td>\n",
       "      <td>1</td>\n",
       "      <td>28</td>\n",
       "      <td>180</td>\n",
       "      <td>180</td>\n",
       "      <td>103</td>\n",
       "      <td>3</td>\n",
       "      <td>96</td>\n",
       "      <td>1.12</td>\n",
       "    </tr>\n",
       "    <tr>\n",
       "      <td>5</td>\n",
       "      <td>872235</td>\n",
       "      <td>1573631</td>\n",
       "      <td>Gilles,Mayumi,Taiki</td>\n",
       "      <td>within a day</td>\n",
       "      <td>100%</td>\n",
       "      <td>93%</td>\n",
       "      <td>Setagaya District</td>\n",
       "      <td>3</td>\n",
       "      <td>3</td>\n",
       "      <td>Setagaya District</td>\n",
       "      <td>...</td>\n",
       "      <td>28</td>\n",
       "      <td>720</td>\n",
       "      <td>28</td>\n",
       "      <td>28</td>\n",
       "      <td>720</td>\n",
       "      <td>720</td>\n",
       "      <td>44</td>\n",
       "      <td>3</td>\n",
       "      <td>96</td>\n",
       "      <td>0.51</td>\n",
       "    </tr>\n",
       "    <tr>\n",
       "      <td>...</td>\n",
       "      <td>...</td>\n",
       "      <td>...</td>\n",
       "      <td>...</td>\n",
       "      <td>...</td>\n",
       "      <td>...</td>\n",
       "      <td>...</td>\n",
       "      <td>...</td>\n",
       "      <td>...</td>\n",
       "      <td>...</td>\n",
       "      <td>...</td>\n",
       "      <td>...</td>\n",
       "      <td>...</td>\n",
       "      <td>...</td>\n",
       "      <td>...</td>\n",
       "      <td>...</td>\n",
       "      <td>...</td>\n",
       "      <td>...</td>\n",
       "      <td>...</td>\n",
       "      <td>...</td>\n",
       "      <td>...</td>\n",
       "      <td>...</td>\n",
       "    </tr>\n",
       "    <tr>\n",
       "      <td>12889</td>\n",
       "      <td>43086662</td>\n",
       "      <td>143096922</td>\n",
       "      <td>Ming</td>\n",
       "      <td>within an hour</td>\n",
       "      <td>100%</td>\n",
       "      <td>100%</td>\n",
       "      <td>Suginami District</td>\n",
       "      <td>16</td>\n",
       "      <td>16</td>\n",
       "      <td>Asakusa/Ueno</td>\n",
       "      <td>...</td>\n",
       "      <td>2</td>\n",
       "      <td>1125</td>\n",
       "      <td>2</td>\n",
       "      <td>5</td>\n",
       "      <td>1125</td>\n",
       "      <td>1125</td>\n",
       "      <td>1</td>\n",
       "      <td>1</td>\n",
       "      <td>100</td>\n",
       "      <td>1</td>\n",
       "    </tr>\n",
       "    <tr>\n",
       "      <td>12916</td>\n",
       "      <td>43105865</td>\n",
       "      <td>143096922</td>\n",
       "      <td>Ming</td>\n",
       "      <td>within an hour</td>\n",
       "      <td>100%</td>\n",
       "      <td>100%</td>\n",
       "      <td>Suginami District</td>\n",
       "      <td>16</td>\n",
       "      <td>16</td>\n",
       "      <td>Asakusa/Ueno</td>\n",
       "      <td>...</td>\n",
       "      <td>2</td>\n",
       "      <td>1125</td>\n",
       "      <td>2</td>\n",
       "      <td>5</td>\n",
       "      <td>1125</td>\n",
       "      <td>1125</td>\n",
       "      <td>2</td>\n",
       "      <td>2</td>\n",
       "      <td>100</td>\n",
       "      <td>2</td>\n",
       "    </tr>\n",
       "    <tr>\n",
       "      <td>12932</td>\n",
       "      <td>43115560</td>\n",
       "      <td>143096922</td>\n",
       "      <td>Ming</td>\n",
       "      <td>within an hour</td>\n",
       "      <td>100%</td>\n",
       "      <td>100%</td>\n",
       "      <td>Suginami District</td>\n",
       "      <td>16</td>\n",
       "      <td>16</td>\n",
       "      <td>Taito District</td>\n",
       "      <td>...</td>\n",
       "      <td>2</td>\n",
       "      <td>1125</td>\n",
       "      <td>2</td>\n",
       "      <td>5</td>\n",
       "      <td>1125</td>\n",
       "      <td>1125</td>\n",
       "      <td>1</td>\n",
       "      <td>1</td>\n",
       "      <td>100</td>\n",
       "      <td>1</td>\n",
       "    </tr>\n",
       "    <tr>\n",
       "      <td>12991</td>\n",
       "      <td>43142986</td>\n",
       "      <td>143096922</td>\n",
       "      <td>Ming</td>\n",
       "      <td>within an hour</td>\n",
       "      <td>100%</td>\n",
       "      <td>100%</td>\n",
       "      <td>Suginami District</td>\n",
       "      <td>16</td>\n",
       "      <td>16</td>\n",
       "      <td>Shinjuku District</td>\n",
       "      <td>...</td>\n",
       "      <td>1</td>\n",
       "      <td>1125</td>\n",
       "      <td>1</td>\n",
       "      <td>5</td>\n",
       "      <td>1125</td>\n",
       "      <td>1125</td>\n",
       "      <td>1</td>\n",
       "      <td>1</td>\n",
       "      <td>100</td>\n",
       "      <td>1</td>\n",
       "    </tr>\n",
       "    <tr>\n",
       "      <td>13001</td>\n",
       "      <td>43156623</td>\n",
       "      <td>201334932</td>\n",
       "      <td>Saki</td>\n",
       "      <td>within an hour</td>\n",
       "      <td>100%</td>\n",
       "      <td>99%</td>\n",
       "      <td>Sumida District</td>\n",
       "      <td>1</td>\n",
       "      <td>1</td>\n",
       "      <td>Sumida District</td>\n",
       "      <td>...</td>\n",
       "      <td>2</td>\n",
       "      <td>90</td>\n",
       "      <td>2</td>\n",
       "      <td>7</td>\n",
       "      <td>1125</td>\n",
       "      <td>1125</td>\n",
       "      <td>2</td>\n",
       "      <td>2</td>\n",
       "      <td>100</td>\n",
       "      <td>2</td>\n",
       "    </tr>\n",
       "  </tbody>\n",
       "</table>\n",
       "<p>8550 rows × 30 columns</p>\n",
       "</div>"
      ],
      "text/plain": [
       "             id    host_id            host_name  host_response_time  \\\n",
       "1        197677     964081      Yoshimi & Marek  within a few hours   \n",
       "2        289597     341577             Hide&Kei  within a few hours   \n",
       "3        370759    1573631  Gilles,Mayumi,Taiki        within a day   \n",
       "4        700253     341577             Hide&Kei  within a few hours   \n",
       "5        872235    1573631  Gilles,Mayumi,Taiki        within a day   \n",
       "...         ...        ...                  ...                 ...   \n",
       "12889  43086662  143096922                 Ming      within an hour   \n",
       "12916  43105865  143096922                 Ming      within an hour   \n",
       "12932  43115560  143096922                 Ming      within an hour   \n",
       "12991  43142986  143096922                 Ming      within an hour   \n",
       "13001  43156623  201334932                 Saki      within an hour   \n",
       "\n",
       "      host_response_rate host_acceptance_rate host_neighbourhood  \\\n",
       "1                   100%                  88%    Sumida District   \n",
       "2                   100%                  82%    Nerima District   \n",
       "3                   100%                  93%  Setagaya District   \n",
       "4                   100%                  82%    Nerima District   \n",
       "5                   100%                  93%  Setagaya District   \n",
       "...                  ...                  ...                ...   \n",
       "12889               100%                 100%  Suginami District   \n",
       "12916               100%                 100%  Suginami District   \n",
       "12932               100%                 100%  Suginami District   \n",
       "12991               100%                 100%  Suginami District   \n",
       "13001               100%                  99%    Sumida District   \n",
       "\n",
       "      host_listings_count host_total_listings_count      neighbourhood  ...  \\\n",
       "1                       1                         1    Sumida District  ...   \n",
       "2                       2                         2    Nerima District  ...   \n",
       "3                       3                         3  Setagaya District  ...   \n",
       "4                       2                         2    Nerima District  ...   \n",
       "5                       3                         3  Setagaya District  ...   \n",
       "...                   ...                       ...                ...  ...   \n",
       "12889                  16                        16       Asakusa/Ueno  ...   \n",
       "12916                  16                        16       Asakusa/Ueno  ...   \n",
       "12932                  16                        16     Taito District  ...   \n",
       "12991                  16                        16  Shinjuku District  ...   \n",
       "13001                   1                         1    Sumida District  ...   \n",
       "\n",
       "      minimum_nights maximum_nights minimum_minimum_nights  \\\n",
       "1                  3            365                      3   \n",
       "2                 28            180                      1   \n",
       "3                 28            720                     28   \n",
       "4                 28            180                      1   \n",
       "5                 28            720                     28   \n",
       "...              ...            ...                    ...   \n",
       "12889              2           1125                      2   \n",
       "12916              2           1125                      2   \n",
       "12932              2           1125                      2   \n",
       "12991              1           1125                      1   \n",
       "13001              2             90                      2   \n",
       "\n",
       "      maximum_minimum_nights minimum_maximum_nights maximum_maximum_nights  \\\n",
       "1                          3                    365                    365   \n",
       "2                         30                    180                    180   \n",
       "3                         28                    720                    720   \n",
       "4                         28                    180                    180   \n",
       "5                         28                    720                    720   \n",
       "...                      ...                    ...                    ...   \n",
       "12889                      5                   1125                   1125   \n",
       "12916                      5                   1125                   1125   \n",
       "12932                      5                   1125                   1125   \n",
       "12991                      5                   1125                   1125   \n",
       "13001                      7                   1125                   1125   \n",
       "\n",
       "      number_of_reviews number_of_reviews_ltm review_scores_rating  \\\n",
       "1                   165                    11                   95   \n",
       "2                   113                     7                   95   \n",
       "3                   103                     5                   95   \n",
       "4                   103                     3                   96   \n",
       "5                    44                     3                   96   \n",
       "...                 ...                   ...                  ...   \n",
       "12889                 1                     1                  100   \n",
       "12916                 2                     2                  100   \n",
       "12932                 1                     1                  100   \n",
       "12991                 1                     1                  100   \n",
       "13001                 2                     2                  100   \n",
       "\n",
       "      reviews_per_month  \n",
       "1                  1.57  \n",
       "2                  1.18  \n",
       "3                  1.39  \n",
       "4                  1.12  \n",
       "5                  0.51  \n",
       "...                 ...  \n",
       "12889                 1  \n",
       "12916                 2  \n",
       "12932                 1  \n",
       "12991                 1  \n",
       "13001                 2  \n",
       "\n",
       "[8550 rows x 30 columns]"
      ]
     },
     "execution_count": 24,
     "metadata": {},
     "output_type": "execute_result"
    }
   ],
   "source": [
    "data"
   ]
  },
  {
   "cell_type": "code",
   "execution_count": 25,
   "metadata": {},
   "outputs": [
    {
     "data": {
      "text/html": [
       "<div>\n",
       "<style scoped>\n",
       "    .dataframe tbody tr th:only-of-type {\n",
       "        vertical-align: middle;\n",
       "    }\n",
       "\n",
       "    .dataframe tbody tr th {\n",
       "        vertical-align: top;\n",
       "    }\n",
       "\n",
       "    .dataframe thead th {\n",
       "        text-align: right;\n",
       "    }\n",
       "</style>\n",
       "<table border=\"1\" class=\"dataframe\">\n",
       "  <thead>\n",
       "    <tr style=\"text-align: right;\">\n",
       "      <th></th>\n",
       "      <th>id</th>\n",
       "      <th>host_id</th>\n",
       "      <th>host_name</th>\n",
       "      <th>host_response_time</th>\n",
       "      <th>host_response_rate</th>\n",
       "      <th>host_acceptance_rate</th>\n",
       "      <th>host_neighbourhood</th>\n",
       "      <th>host_listings_count</th>\n",
       "      <th>host_total_listings_count</th>\n",
       "      <th>neighbourhood</th>\n",
       "      <th>...</th>\n",
       "      <th>minimum_nights</th>\n",
       "      <th>maximum_nights</th>\n",
       "      <th>minimum_minimum_nights</th>\n",
       "      <th>maximum_minimum_nights</th>\n",
       "      <th>minimum_maximum_nights</th>\n",
       "      <th>maximum_maximum_nights</th>\n",
       "      <th>number_of_reviews</th>\n",
       "      <th>number_of_reviews_ltm</th>\n",
       "      <th>review_scores_rating</th>\n",
       "      <th>reviews_per_month</th>\n",
       "    </tr>\n",
       "  </thead>\n",
       "  <tbody>\n",
       "    <tr>\n",
       "      <td>1</td>\n",
       "      <td>197677</td>\n",
       "      <td>964081</td>\n",
       "      <td>Yoshimi &amp; Marek</td>\n",
       "      <td>within a few hours</td>\n",
       "      <td>100%</td>\n",
       "      <td>88%</td>\n",
       "      <td>Sumida District</td>\n",
       "      <td>1</td>\n",
       "      <td>1</td>\n",
       "      <td>Sumida District</td>\n",
       "      <td>...</td>\n",
       "      <td>3</td>\n",
       "      <td>365</td>\n",
       "      <td>3</td>\n",
       "      <td>3</td>\n",
       "      <td>365</td>\n",
       "      <td>365</td>\n",
       "      <td>165</td>\n",
       "      <td>11</td>\n",
       "      <td>95</td>\n",
       "      <td>1.57</td>\n",
       "    </tr>\n",
       "    <tr>\n",
       "      <td>2</td>\n",
       "      <td>289597</td>\n",
       "      <td>341577</td>\n",
       "      <td>Hide&amp;Kei</td>\n",
       "      <td>within a few hours</td>\n",
       "      <td>100%</td>\n",
       "      <td>82%</td>\n",
       "      <td>Nerima District</td>\n",
       "      <td>2</td>\n",
       "      <td>2</td>\n",
       "      <td>Nerima District</td>\n",
       "      <td>...</td>\n",
       "      <td>28</td>\n",
       "      <td>180</td>\n",
       "      <td>1</td>\n",
       "      <td>30</td>\n",
       "      <td>180</td>\n",
       "      <td>180</td>\n",
       "      <td>113</td>\n",
       "      <td>7</td>\n",
       "      <td>95</td>\n",
       "      <td>1.18</td>\n",
       "    </tr>\n",
       "    <tr>\n",
       "      <td>3</td>\n",
       "      <td>370759</td>\n",
       "      <td>1573631</td>\n",
       "      <td>Gilles,Mayumi,Taiki</td>\n",
       "      <td>within a day</td>\n",
       "      <td>100%</td>\n",
       "      <td>93%</td>\n",
       "      <td>Setagaya District</td>\n",
       "      <td>3</td>\n",
       "      <td>3</td>\n",
       "      <td>Setagaya District</td>\n",
       "      <td>...</td>\n",
       "      <td>28</td>\n",
       "      <td>720</td>\n",
       "      <td>28</td>\n",
       "      <td>28</td>\n",
       "      <td>720</td>\n",
       "      <td>720</td>\n",
       "      <td>103</td>\n",
       "      <td>5</td>\n",
       "      <td>95</td>\n",
       "      <td>1.39</td>\n",
       "    </tr>\n",
       "    <tr>\n",
       "      <td>4</td>\n",
       "      <td>700253</td>\n",
       "      <td>341577</td>\n",
       "      <td>Hide&amp;Kei</td>\n",
       "      <td>within a few hours</td>\n",
       "      <td>100%</td>\n",
       "      <td>82%</td>\n",
       "      <td>Nerima District</td>\n",
       "      <td>2</td>\n",
       "      <td>2</td>\n",
       "      <td>Nerima District</td>\n",
       "      <td>...</td>\n",
       "      <td>28</td>\n",
       "      <td>180</td>\n",
       "      <td>1</td>\n",
       "      <td>28</td>\n",
       "      <td>180</td>\n",
       "      <td>180</td>\n",
       "      <td>103</td>\n",
       "      <td>3</td>\n",
       "      <td>96</td>\n",
       "      <td>1.12</td>\n",
       "    </tr>\n",
       "    <tr>\n",
       "      <td>5</td>\n",
       "      <td>872235</td>\n",
       "      <td>1573631</td>\n",
       "      <td>Gilles,Mayumi,Taiki</td>\n",
       "      <td>within a day</td>\n",
       "      <td>100%</td>\n",
       "      <td>93%</td>\n",
       "      <td>Setagaya District</td>\n",
       "      <td>3</td>\n",
       "      <td>3</td>\n",
       "      <td>Setagaya District</td>\n",
       "      <td>...</td>\n",
       "      <td>28</td>\n",
       "      <td>720</td>\n",
       "      <td>28</td>\n",
       "      <td>28</td>\n",
       "      <td>720</td>\n",
       "      <td>720</td>\n",
       "      <td>44</td>\n",
       "      <td>3</td>\n",
       "      <td>96</td>\n",
       "      <td>0.51</td>\n",
       "    </tr>\n",
       "    <tr>\n",
       "      <td>...</td>\n",
       "      <td>...</td>\n",
       "      <td>...</td>\n",
       "      <td>...</td>\n",
       "      <td>...</td>\n",
       "      <td>...</td>\n",
       "      <td>...</td>\n",
       "      <td>...</td>\n",
       "      <td>...</td>\n",
       "      <td>...</td>\n",
       "      <td>...</td>\n",
       "      <td>...</td>\n",
       "      <td>...</td>\n",
       "      <td>...</td>\n",
       "      <td>...</td>\n",
       "      <td>...</td>\n",
       "      <td>...</td>\n",
       "      <td>...</td>\n",
       "      <td>...</td>\n",
       "      <td>...</td>\n",
       "      <td>...</td>\n",
       "      <td>...</td>\n",
       "    </tr>\n",
       "    <tr>\n",
       "      <td>12889</td>\n",
       "      <td>43086662</td>\n",
       "      <td>143096922</td>\n",
       "      <td>Ming</td>\n",
       "      <td>within an hour</td>\n",
       "      <td>100%</td>\n",
       "      <td>100%</td>\n",
       "      <td>Suginami District</td>\n",
       "      <td>16</td>\n",
       "      <td>16</td>\n",
       "      <td>Asakusa/Ueno</td>\n",
       "      <td>...</td>\n",
       "      <td>2</td>\n",
       "      <td>1125</td>\n",
       "      <td>2</td>\n",
       "      <td>5</td>\n",
       "      <td>1125</td>\n",
       "      <td>1125</td>\n",
       "      <td>1</td>\n",
       "      <td>1</td>\n",
       "      <td>100</td>\n",
       "      <td>1</td>\n",
       "    </tr>\n",
       "    <tr>\n",
       "      <td>12916</td>\n",
       "      <td>43105865</td>\n",
       "      <td>143096922</td>\n",
       "      <td>Ming</td>\n",
       "      <td>within an hour</td>\n",
       "      <td>100%</td>\n",
       "      <td>100%</td>\n",
       "      <td>Suginami District</td>\n",
       "      <td>16</td>\n",
       "      <td>16</td>\n",
       "      <td>Asakusa/Ueno</td>\n",
       "      <td>...</td>\n",
       "      <td>2</td>\n",
       "      <td>1125</td>\n",
       "      <td>2</td>\n",
       "      <td>5</td>\n",
       "      <td>1125</td>\n",
       "      <td>1125</td>\n",
       "      <td>2</td>\n",
       "      <td>2</td>\n",
       "      <td>100</td>\n",
       "      <td>2</td>\n",
       "    </tr>\n",
       "    <tr>\n",
       "      <td>12932</td>\n",
       "      <td>43115560</td>\n",
       "      <td>143096922</td>\n",
       "      <td>Ming</td>\n",
       "      <td>within an hour</td>\n",
       "      <td>100%</td>\n",
       "      <td>100%</td>\n",
       "      <td>Suginami District</td>\n",
       "      <td>16</td>\n",
       "      <td>16</td>\n",
       "      <td>Taito District</td>\n",
       "      <td>...</td>\n",
       "      <td>2</td>\n",
       "      <td>1125</td>\n",
       "      <td>2</td>\n",
       "      <td>5</td>\n",
       "      <td>1125</td>\n",
       "      <td>1125</td>\n",
       "      <td>1</td>\n",
       "      <td>1</td>\n",
       "      <td>100</td>\n",
       "      <td>1</td>\n",
       "    </tr>\n",
       "    <tr>\n",
       "      <td>12991</td>\n",
       "      <td>43142986</td>\n",
       "      <td>143096922</td>\n",
       "      <td>Ming</td>\n",
       "      <td>within an hour</td>\n",
       "      <td>100%</td>\n",
       "      <td>100%</td>\n",
       "      <td>Suginami District</td>\n",
       "      <td>16</td>\n",
       "      <td>16</td>\n",
       "      <td>Shinjuku District</td>\n",
       "      <td>...</td>\n",
       "      <td>1</td>\n",
       "      <td>1125</td>\n",
       "      <td>1</td>\n",
       "      <td>5</td>\n",
       "      <td>1125</td>\n",
       "      <td>1125</td>\n",
       "      <td>1</td>\n",
       "      <td>1</td>\n",
       "      <td>100</td>\n",
       "      <td>1</td>\n",
       "    </tr>\n",
       "    <tr>\n",
       "      <td>13001</td>\n",
       "      <td>43156623</td>\n",
       "      <td>201334932</td>\n",
       "      <td>Saki</td>\n",
       "      <td>within an hour</td>\n",
       "      <td>100%</td>\n",
       "      <td>99%</td>\n",
       "      <td>Sumida District</td>\n",
       "      <td>1</td>\n",
       "      <td>1</td>\n",
       "      <td>Sumida District</td>\n",
       "      <td>...</td>\n",
       "      <td>2</td>\n",
       "      <td>90</td>\n",
       "      <td>2</td>\n",
       "      <td>7</td>\n",
       "      <td>1125</td>\n",
       "      <td>1125</td>\n",
       "      <td>2</td>\n",
       "      <td>2</td>\n",
       "      <td>100</td>\n",
       "      <td>2</td>\n",
       "    </tr>\n",
       "  </tbody>\n",
       "</table>\n",
       "<p>8550 rows × 30 columns</p>\n",
       "</div>"
      ],
      "text/plain": [
       "             id    host_id            host_name  host_response_time  \\\n",
       "1        197677     964081      Yoshimi & Marek  within a few hours   \n",
       "2        289597     341577             Hide&Kei  within a few hours   \n",
       "3        370759    1573631  Gilles,Mayumi,Taiki        within a day   \n",
       "4        700253     341577             Hide&Kei  within a few hours   \n",
       "5        872235    1573631  Gilles,Mayumi,Taiki        within a day   \n",
       "...         ...        ...                  ...                 ...   \n",
       "12889  43086662  143096922                 Ming      within an hour   \n",
       "12916  43105865  143096922                 Ming      within an hour   \n",
       "12932  43115560  143096922                 Ming      within an hour   \n",
       "12991  43142986  143096922                 Ming      within an hour   \n",
       "13001  43156623  201334932                 Saki      within an hour   \n",
       "\n",
       "      host_response_rate host_acceptance_rate host_neighbourhood  \\\n",
       "1                   100%                  88%    Sumida District   \n",
       "2                   100%                  82%    Nerima District   \n",
       "3                   100%                  93%  Setagaya District   \n",
       "4                   100%                  82%    Nerima District   \n",
       "5                   100%                  93%  Setagaya District   \n",
       "...                  ...                  ...                ...   \n",
       "12889               100%                 100%  Suginami District   \n",
       "12916               100%                 100%  Suginami District   \n",
       "12932               100%                 100%  Suginami District   \n",
       "12991               100%                 100%  Suginami District   \n",
       "13001               100%                  99%    Sumida District   \n",
       "\n",
       "      host_listings_count host_total_listings_count      neighbourhood  ...  \\\n",
       "1                       1                         1    Sumida District  ...   \n",
       "2                       2                         2    Nerima District  ...   \n",
       "3                       3                         3  Setagaya District  ...   \n",
       "4                       2                         2    Nerima District  ...   \n",
       "5                       3                         3  Setagaya District  ...   \n",
       "...                   ...                       ...                ...  ...   \n",
       "12889                  16                        16       Asakusa/Ueno  ...   \n",
       "12916                  16                        16       Asakusa/Ueno  ...   \n",
       "12932                  16                        16     Taito District  ...   \n",
       "12991                  16                        16  Shinjuku District  ...   \n",
       "13001                   1                         1    Sumida District  ...   \n",
       "\n",
       "      minimum_nights maximum_nights minimum_minimum_nights  \\\n",
       "1                  3            365                      3   \n",
       "2                 28            180                      1   \n",
       "3                 28            720                     28   \n",
       "4                 28            180                      1   \n",
       "5                 28            720                     28   \n",
       "...              ...            ...                    ...   \n",
       "12889              2           1125                      2   \n",
       "12916              2           1125                      2   \n",
       "12932              2           1125                      2   \n",
       "12991              1           1125                      1   \n",
       "13001              2             90                      2   \n",
       "\n",
       "      maximum_minimum_nights minimum_maximum_nights maximum_maximum_nights  \\\n",
       "1                          3                    365                    365   \n",
       "2                         30                    180                    180   \n",
       "3                         28                    720                    720   \n",
       "4                         28                    180                    180   \n",
       "5                         28                    720                    720   \n",
       "...                      ...                    ...                    ...   \n",
       "12889                      5                   1125                   1125   \n",
       "12916                      5                   1125                   1125   \n",
       "12932                      5                   1125                   1125   \n",
       "12991                      5                   1125                   1125   \n",
       "13001                      7                   1125                   1125   \n",
       "\n",
       "      number_of_reviews number_of_reviews_ltm review_scores_rating  \\\n",
       "1                   165                    11                   95   \n",
       "2                   113                     7                   95   \n",
       "3                   103                     5                   95   \n",
       "4                   103                     3                   96   \n",
       "5                    44                     3                   96   \n",
       "...                 ...                   ...                  ...   \n",
       "12889                 1                     1                  100   \n",
       "12916                 2                     2                  100   \n",
       "12932                 1                     1                  100   \n",
       "12991                 1                     1                  100   \n",
       "13001                 2                     2                  100   \n",
       "\n",
       "      reviews_per_month  \n",
       "1                  1.57  \n",
       "2                  1.18  \n",
       "3                  1.39  \n",
       "4                  1.12  \n",
       "5                  0.51  \n",
       "...                 ...  \n",
       "12889                 1  \n",
       "12916                 2  \n",
       "12932                 1  \n",
       "12991                 1  \n",
       "13001                 2  \n",
       "\n",
       "[8550 rows x 30 columns]"
      ]
     },
     "execution_count": 25,
     "metadata": {},
     "output_type": "execute_result"
    }
   ],
   "source": [
    "#simpan data baru sebelum data d ubah2/ feature engineering\n",
    "newdata = data\n",
    "newdata"
   ]
  },
  {
   "cell_type": "code",
   "execution_count": 26,
   "metadata": {},
   "outputs": [],
   "source": [
    "#mengreplace nilai host response time dengan nilai int\n",
    "data['host_response_time'] = data['host_response_time'].replace({'within an hour':4,'within a few hours':3,'within a day':2,'a few days or more':1})"
   ]
  },
  {
   "cell_type": "code",
   "execution_count": 27,
   "metadata": {},
   "outputs": [
    {
     "data": {
      "text/plain": [
       "1        3\n",
       "2        3\n",
       "3        2\n",
       "4        3\n",
       "5        2\n",
       "        ..\n",
       "12889    4\n",
       "12916    4\n",
       "12932    4\n",
       "12991    4\n",
       "13001    4\n",
       "Name: host_response_time, Length: 8550, dtype: int64"
      ]
     },
     "execution_count": 27,
     "metadata": {},
     "output_type": "execute_result"
    }
   ],
   "source": [
    "data['host_response_time'] "
   ]
  },
  {
   "cell_type": "code",
   "execution_count": 28,
   "metadata": {},
   "outputs": [
    {
     "name": "stdout",
     "output_type": "stream",
     "text": [
      "             id    host_id            host_name  host_response_time  \\\n",
      "1        197677     964081      Yoshimi & Marek                   3   \n",
      "2        289597     341577             Hide&Kei                   3   \n",
      "3        370759    1573631  Gilles,Mayumi,Taiki                   2   \n",
      "4        700253     341577             Hide&Kei                   3   \n",
      "5        872235    1573631  Gilles,Mayumi,Taiki                   2   \n",
      "...         ...        ...                  ...                 ...   \n",
      "12889  43086662  143096922                 Ming                   4   \n",
      "12916  43105865  143096922                 Ming                   4   \n",
      "12932  43115560  143096922                 Ming                   4   \n",
      "12991  43142986  143096922                 Ming                   4   \n",
      "13001  43156623  201334932                 Saki                   4   \n",
      "\n",
      "      host_response_rate host_acceptance_rate host_neighbourhood  \\\n",
      "1                   100%                  88%    Sumida District   \n",
      "2                   100%                  82%    Nerima District   \n",
      "3                   100%                  93%  Setagaya District   \n",
      "4                   100%                  82%    Nerima District   \n",
      "5                   100%                  93%  Setagaya District   \n",
      "...                  ...                  ...                ...   \n",
      "12889               100%                 100%  Suginami District   \n",
      "12916               100%                 100%  Suginami District   \n",
      "12932               100%                 100%  Suginami District   \n",
      "12991               100%                 100%  Suginami District   \n",
      "13001               100%                  99%    Sumida District   \n",
      "\n",
      "      host_listings_count host_total_listings_count      neighbourhood  ...  \\\n",
      "1                       1                         1    Sumida District  ...   \n",
      "2                       2                         2    Nerima District  ...   \n",
      "3                       3                         3  Setagaya District  ...   \n",
      "4                       2                         2    Nerima District  ...   \n",
      "5                       3                         3  Setagaya District  ...   \n",
      "...                   ...                       ...                ...  ...   \n",
      "12889                  16                        16       Asakusa/Ueno  ...   \n",
      "12916                  16                        16       Asakusa/Ueno  ...   \n",
      "12932                  16                        16     Taito District  ...   \n",
      "12991                  16                        16  Shinjuku District  ...   \n",
      "13001                   1                         1    Sumida District  ...   \n",
      "\n",
      "      minimum_nights maximum_nights minimum_minimum_nights  \\\n",
      "1                  3            365                      3   \n",
      "2                 28            180                      1   \n",
      "3                 28            720                     28   \n",
      "4                 28            180                      1   \n",
      "5                 28            720                     28   \n",
      "...              ...            ...                    ...   \n",
      "12889              2           1125                      2   \n",
      "12916              2           1125                      2   \n",
      "12932              2           1125                      2   \n",
      "12991              1           1125                      1   \n",
      "13001              2             90                      2   \n",
      "\n",
      "      maximum_minimum_nights minimum_maximum_nights maximum_maximum_nights  \\\n",
      "1                          3                    365                    365   \n",
      "2                         30                    180                    180   \n",
      "3                         28                    720                    720   \n",
      "4                         28                    180                    180   \n",
      "5                         28                    720                    720   \n",
      "...                      ...                    ...                    ...   \n",
      "12889                      5                   1125                   1125   \n",
      "12916                      5                   1125                   1125   \n",
      "12932                      5                   1125                   1125   \n",
      "12991                      5                   1125                   1125   \n",
      "13001                      7                   1125                   1125   \n",
      "\n",
      "      number_of_reviews number_of_reviews_ltm review_scores_rating  \\\n",
      "1                   165                    11                   95   \n",
      "2                   113                     7                   95   \n",
      "3                   103                     5                   95   \n",
      "4                   103                     3                   96   \n",
      "5                    44                     3                   96   \n",
      "...                 ...                   ...                  ...   \n",
      "12889                 1                     1                  100   \n",
      "12916                 2                     2                  100   \n",
      "12932                 1                     1                  100   \n",
      "12991                 1                     1                  100   \n",
      "13001                 2                     2                  100   \n",
      "\n",
      "      reviews_per_month  \n",
      "1                  1.57  \n",
      "2                  1.18  \n",
      "3                  1.39  \n",
      "4                  1.12  \n",
      "5                  0.51  \n",
      "...                 ...  \n",
      "12889                 1  \n",
      "12916                 2  \n",
      "12932                 1  \n",
      "12991                 1  \n",
      "13001                 2  \n",
      "\n",
      "[8550 rows x 30 columns]\n"
     ]
    }
   ],
   "source": [
    "print(data)"
   ]
  },
  {
   "cell_type": "code",
   "execution_count": 29,
   "metadata": {},
   "outputs": [
    {
     "data": {
      "text/plain": [
       "Apartment             5667\n",
       "House                 1274\n",
       "Hostel                 549\n",
       "Condominium            320\n",
       "Boutique hotel         118\n",
       "Hotel                  111\n",
       "Aparthotel             110\n",
       "Serviced apartment     109\n",
       "Villa                   84\n",
       "Guesthouse              45\n",
       "Loft                    39\n",
       "Ryokan (Japan)          39\n",
       "Hut                     31\n",
       "Townhouse               17\n",
       "Tiny house              12\n",
       "Bed and breakfast        7\n",
       "Guest suite              7\n",
       "Dome house               3\n",
       "Bungalow                 3\n",
       "Cottage                  1\n",
       "Dorm                     1\n",
       "Cabin                    1\n",
       "Tent                     1\n",
       "Camper/RV                1\n",
       "Name: property_type, dtype: int64"
      ]
     },
     "execution_count": 29,
     "metadata": {},
     "output_type": "execute_result"
    }
   ],
   "source": [
    "data['property_type'].value_counts()"
   ]
  },
  {
   "cell_type": "markdown",
   "metadata": {},
   "source": [
    "Penilaian properti :\n",
    "3 = 'House','Hotel','Aparthotel','Condominium','Villa','Serviced apartment','Boutique Hotel','Apartment','Townhouse'\n",
    "2 = 'Hostel','GuestHouse','Loft','Ryokan (Japan)', 'Guest Suite','Tiny house','Dome house'\n",
    "1 = 'Hut','Bed and breakfast','Bungalow','Tent','Cabin','Cottage','Camper/RV','Dorm'"
   ]
  },
  {
   "cell_type": "code",
   "execution_count": 30,
   "metadata": {},
   "outputs": [],
   "source": [
    "#mengubah data property menjadi sesuai ketentuan d atas\n",
    "data['property_type'] = data['property_type'].replace({'House':3,'Hotel':3,'Aparthotel':3,'Condominium':3,'Villa':3,'Serviced apartment':3,'Boutique hotel':3,'Apartment':3,'Townhouse':3,'Hostel':2,'Guesthouse':2,'Loft':2,'Ryokan (Japan)':2, 'Guest suite':2,'Tiny house':2,'Dome house':2,'Hut':1,'Bed and breakfast':1,'Bungalow':1,'Tent':1,'Cabin':1,'Cottage':1,'Camper/RV':1,'Dorm':1})"
   ]
  },
  {
   "cell_type": "code",
   "execution_count": 31,
   "metadata": {},
   "outputs": [
    {
     "data": {
      "text/plain": [
       "1        3\n",
       "2        3\n",
       "3        3\n",
       "4        3\n",
       "5        3\n",
       "        ..\n",
       "12889    3\n",
       "12916    3\n",
       "12932    3\n",
       "12991    3\n",
       "13001    3\n",
       "Name: property_type, Length: 8550, dtype: int64"
      ]
     },
     "execution_count": 31,
     "metadata": {},
     "output_type": "execute_result"
    }
   ],
   "source": [
    "data['property_type']"
   ]
  },
  {
   "cell_type": "code",
   "execution_count": 32,
   "metadata": {},
   "outputs": [
    {
     "data": {
      "text/plain": [
       "Entire home/apt    6479\n",
       "Private room       1362\n",
       "Hotel room          435\n",
       "Shared room         274\n",
       "Name: room_type, dtype: int64"
      ]
     },
     "execution_count": 32,
     "metadata": {},
     "output_type": "execute_result"
    }
   ],
   "source": [
    "data['room_type'].value_counts()"
   ]
  },
  {
   "cell_type": "code",
   "execution_count": 33,
   "metadata": {},
   "outputs": [],
   "source": [
    "#mengubah tipe kamar menjadi angka\n",
    "data['room_type'] = data['room_type'].replace({'Entire home/apt':4,'Private room':3,'Hotel room':2,'Shared room':1})"
   ]
  },
  {
   "cell_type": "markdown",
   "metadata": {},
   "source": [
    "12 fitur yang dipilh adalah\n",
    "1. host response rate\n",
    "2. host response time\n",
    "3. host acceptance rate\n",
    "4. host listings count\n",
    "5. host total listing count\n",
    "6. property type\n",
    "7. room type\n",
    "8. accomodation\n",
    "9. bathroom\n",
    "10. bedroom\n",
    "11. beds\n",
    "12. guest included"
   ]
  },
  {
   "cell_type": "code",
   "execution_count": 34,
   "metadata": {},
   "outputs": [],
   "source": [
    "data['host_response_rate']=data['host_response_rate'].replace('\\%','',regex=True).astype(float)"
   ]
  },
  {
   "cell_type": "code",
   "execution_count": 35,
   "metadata": {},
   "outputs": [
    {
     "data": {
      "text/plain": [
       "1        1.0\n",
       "2        1.0\n",
       "3        1.0\n",
       "4        1.0\n",
       "5        1.0\n",
       "        ... \n",
       "12889    1.0\n",
       "12916    1.0\n",
       "12932    1.0\n",
       "12991    1.0\n",
       "13001    1.0\n",
       "Name: host_response_rate, Length: 8550, dtype: float64"
      ]
     },
     "execution_count": 35,
     "metadata": {},
     "output_type": "execute_result"
    }
   ],
   "source": [
    "data['host_response_rate']/100 "
   ]
  },
  {
   "cell_type": "code",
   "execution_count": 36,
   "metadata": {},
   "outputs": [],
   "source": [
    "data['host_acceptance_rate']=data['host_acceptance_rate'].replace('\\%','',regex=True).astype(float)"
   ]
  },
  {
   "cell_type": "code",
   "execution_count": 37,
   "metadata": {},
   "outputs": [
    {
     "data": {
      "text/plain": [
       "1        0.88\n",
       "2        0.82\n",
       "3        0.93\n",
       "4        0.82\n",
       "5        0.93\n",
       "         ... \n",
       "12889    1.00\n",
       "12916    1.00\n",
       "12932    1.00\n",
       "12991    1.00\n",
       "13001    0.99\n",
       "Name: host_acceptance_rate, Length: 8550, dtype: float64"
      ]
     },
     "execution_count": 37,
     "metadata": {},
     "output_type": "execute_result"
    }
   ],
   "source": [
    "data['host_acceptance_rate']/100 "
   ]
  },
  {
   "cell_type": "code",
   "execution_count": 38,
   "metadata": {},
   "outputs": [],
   "source": [
    "#menghapus $ dan , dari price\n",
    "data['price']=data['price'].replace('\\$','',regex=True).astype(str)\n",
    "data['price']=data['price'].replace('\\,','',regex=True).astype(str)"
   ]
  },
  {
   "cell_type": "code",
   "execution_count": 39,
   "metadata": {},
   "outputs": [
    {
     "data": {
      "text/plain": [
       "1        11048.0\n",
       "2         4171.0\n",
       "3         6952.0\n",
       "4         3957.0\n",
       "5         8045.0\n",
       "          ...   \n",
       "12889    24026.0\n",
       "12916    19951.0\n",
       "12932    19951.0\n",
       "12991    12013.0\n",
       "13001     4505.0\n",
       "Name: price, Length: 8550, dtype: float64"
      ]
     },
     "execution_count": 39,
     "metadata": {},
     "output_type": "execute_result"
    }
   ],
   "source": [
    "#mengubah jadi float\n",
    "data['price'].astype(float)\n"
   ]
  },
  {
   "cell_type": "code",
   "execution_count": 40,
   "metadata": {},
   "outputs": [
    {
     "data": {
      "text/plain": [
       "1         1.0\n",
       "2         2.0\n",
       "3         3.0\n",
       "4         2.0\n",
       "5         3.0\n",
       "         ... \n",
       "12889    16.0\n",
       "12916    16.0\n",
       "12932    16.0\n",
       "12991    16.0\n",
       "13001     1.0\n",
       "Name: host_listings_count, Length: 8550, dtype: float64"
      ]
     },
     "execution_count": 40,
     "metadata": {},
     "output_type": "execute_result"
    }
   ],
   "source": [
    "#mengubah jadi float\n",
    "data['host_listings_count'].astype(float)\n"
   ]
  },
  {
   "cell_type": "code",
   "execution_count": 41,
   "metadata": {},
   "outputs": [
    {
     "data": {
      "text/plain": [
       "1         1.0\n",
       "2         2.0\n",
       "3         3.0\n",
       "4         2.0\n",
       "5         3.0\n",
       "         ... \n",
       "12889    16.0\n",
       "12916    16.0\n",
       "12932    16.0\n",
       "12991    16.0\n",
       "13001     1.0\n",
       "Name: host_total_listings_count, Length: 8550, dtype: float64"
      ]
     },
     "execution_count": 41,
     "metadata": {},
     "output_type": "execute_result"
    }
   ],
   "source": [
    "data['host_total_listings_count'].astype(float)\n"
   ]
  },
  {
   "cell_type": "code",
   "execution_count": 42,
   "metadata": {},
   "outputs": [
    {
     "data": {
      "text/plain": [
       "1        2.0\n",
       "2        2.0\n",
       "3        2.0\n",
       "4        2.0\n",
       "5        3.0\n",
       "        ... \n",
       "12889    9.0\n",
       "12916    7.0\n",
       "12932    7.0\n",
       "12991    6.0\n",
       "13001    4.0\n",
       "Name: accommodates, Length: 8550, dtype: float64"
      ]
     },
     "execution_count": 42,
     "metadata": {},
     "output_type": "execute_result"
    }
   ],
   "source": [
    "#mengubah jadi float\n",
    "data['accommodates'].astype(float)\n"
   ]
  },
  {
   "cell_type": "code",
   "execution_count": 43,
   "metadata": {},
   "outputs": [
    {
     "data": {
      "text/plain": [
       "1        1.0\n",
       "2        1.0\n",
       "3        1.0\n",
       "4        1.0\n",
       "5        1.0\n",
       "        ... \n",
       "12889    1.5\n",
       "12916    1.5\n",
       "12932    1.5\n",
       "12991    1.5\n",
       "13001    1.5\n",
       "Name: bathrooms, Length: 8550, dtype: float64"
      ]
     },
     "execution_count": 43,
     "metadata": {},
     "output_type": "execute_result"
    }
   ],
   "source": [
    "#mengubah jadi float\n",
    "data['bathrooms'].astype(float)\n"
   ]
  },
  {
   "cell_type": "code",
   "execution_count": 44,
   "metadata": {},
   "outputs": [
    {
     "data": {
      "text/plain": [
       "1        1.0\n",
       "2        1.0\n",
       "3        0.0\n",
       "4        1.0\n",
       "5        2.0\n",
       "        ... \n",
       "12889    3.0\n",
       "12916    3.0\n",
       "12932    2.0\n",
       "12991    2.0\n",
       "13001    1.0\n",
       "Name: bedrooms, Length: 8550, dtype: float64"
      ]
     },
     "execution_count": 44,
     "metadata": {},
     "output_type": "execute_result"
    }
   ],
   "source": [
    "#mengubah jadi float\n",
    "data['bedrooms'].astype(float)\n"
   ]
  },
  {
   "cell_type": "code",
   "execution_count": 45,
   "metadata": {},
   "outputs": [
    {
     "data": {
      "text/plain": [
       "1        2.0\n",
       "2        1.0\n",
       "3        1.0\n",
       "4        1.0\n",
       "5        2.0\n",
       "        ... \n",
       "12889    5.0\n",
       "12916    4.0\n",
       "12932    4.0\n",
       "12991    3.0\n",
       "13001    3.0\n",
       "Name: beds, Length: 8550, dtype: float64"
      ]
     },
     "execution_count": 45,
     "metadata": {},
     "output_type": "execute_result"
    }
   ],
   "source": [
    "#mengubah jadi float\n",
    "data['beds'].astype(float)\n"
   ]
  },
  {
   "cell_type": "code",
   "execution_count": 46,
   "metadata": {},
   "outputs": [
    {
     "data": {
      "text/plain": [
       "1        1.0\n",
       "2        1.0\n",
       "3        1.0\n",
       "4        1.0\n",
       "5        1.0\n",
       "        ... \n",
       "12889    6.0\n",
       "12916    5.0\n",
       "12932    4.0\n",
       "12991    4.0\n",
       "13001    2.0\n",
       "Name: guests_included, Length: 8550, dtype: float64"
      ]
     },
     "execution_count": 46,
     "metadata": {},
     "output_type": "execute_result"
    }
   ],
   "source": [
    "#mengubah jadi float\n",
    "data['guests_included'].astype(float)"
   ]
  },
  {
   "cell_type": "markdown",
   "metadata": {},
   "source": [
    "# No 2"
   ]
  },
  {
   "cell_type": "code",
   "execution_count": 47,
   "metadata": {},
   "outputs": [],
   "source": [
    "#masukkan data dengan data data yang sudah di feature engineering\n",
    "NO2 = data[[\"host_response_rate\",\"host_response_time\",\"host_acceptance_rate\",\"host_listings_count\",\"host_total_listings_count\",\"property_type\",\"room_type\",\"accommodates\",\"bathrooms\",\"bedrooms\",\"beds\",\"guests_included\",\"price\"]]\n",
    "Y2 = data[[\"price\"]]\n",
    "X2 =  data[[\"host_response_rate\",\"host_response_time\",\"host_acceptance_rate\",\"host_listings_count\",\"host_total_listings_count\",\"property_type\",\"room_type\",\"accommodates\",\"bathrooms\",\"bedrooms\",\"beds\",\"guests_included\"]]"
   ]
  },
  {
   "cell_type": "code",
   "execution_count": 48,
   "metadata": {},
   "outputs": [
    {
     "name": "stdout",
     "output_type": "stream",
     "text": [
      "       host_response_rate  host_response_time  host_acceptance_rate  \\\n",
      "1                   100.0                   3                  88.0   \n",
      "2                   100.0                   3                  82.0   \n",
      "3                   100.0                   2                  93.0   \n",
      "4                   100.0                   3                  82.0   \n",
      "5                   100.0                   2                  93.0   \n",
      "...                   ...                 ...                   ...   \n",
      "12889               100.0                   4                 100.0   \n",
      "12916               100.0                   4                 100.0   \n",
      "12932               100.0                   4                 100.0   \n",
      "12991               100.0                   4                 100.0   \n",
      "13001               100.0                   4                  99.0   \n",
      "\n",
      "      host_listings_count host_total_listings_count  property_type  room_type  \\\n",
      "1                       1                         1              3          4   \n",
      "2                       2                         2              3          4   \n",
      "3                       3                         3              3          4   \n",
      "4                       2                         2              3          4   \n",
      "5                       3                         3              3          4   \n",
      "...                   ...                       ...            ...        ...   \n",
      "12889                  16                        16              3          4   \n",
      "12916                  16                        16              3          4   \n",
      "12932                  16                        16              3          4   \n",
      "12991                  16                        16              3          4   \n",
      "13001                   1                         1              3          4   \n",
      "\n",
      "      accommodates bathrooms bedrooms beds guests_included      price  \n",
      "1                2         1        1    2               1  11048.00   \n",
      "2                2         1        1    1               1   4171.00   \n",
      "3                2         1        0    1               1   6952.00   \n",
      "4                2         1        1    1               1   3957.00   \n",
      "5                3         1        2    2               1   8045.00   \n",
      "...            ...       ...      ...  ...             ...        ...  \n",
      "12889            9       1.5        3    5               6  24026.00   \n",
      "12916            7       1.5        3    4               5  19951.00   \n",
      "12932            7       1.5        2    4               4  19951.00   \n",
      "12991            6       1.5        2    3               4  12013.00   \n",
      "13001            4       1.5        1    3               2   4505.00   \n",
      "\n",
      "[8550 rows x 13 columns]\n"
     ]
    }
   ],
   "source": [
    "print(NO2)"
   ]
  },
  {
   "cell_type": "markdown",
   "metadata": {},
   "source": [
    "Di atas adalah feature engineering dimana saya menghapus beberapa data yang tidak diperlukan dan mengganggu untuk menjalankan kodingan. Serta saya mengubah fitur fitur yang saya perlukan menjadi tipe data float64. Feature engineering ini memiliki pengaruh untuk membantu saya menjalankan kodingan. Dan juga membantu saya untuk lebih mudah menentukan akurasi dari target target"
   ]
  },
  {
   "cell_type": "code",
   "execution_count": 49,
   "metadata": {},
   "outputs": [],
   "source": [
    "X2train,X2test,Y2train,Y2test = train_test_split(X2,Y2,test_size = 0.2)"
   ]
  },
  {
   "cell_type": "markdown",
   "metadata": {},
   "source": [
    "Feature Selection"
   ]
  },
  {
   "cell_type": "code",
   "execution_count": 50,
   "metadata": {},
   "outputs": [
    {
     "name": "stdout",
     "output_type": "stream",
     "text": [
      "[ True  True  True  True  True  True  True  True  True  True  True  True]\n",
      "[1 1 1 1 1 1 1 1 1 1 1 1]\n"
     ]
    },
    {
     "name": "stderr",
     "output_type": "stream",
     "text": [
      "C:\\Users\\Albert\\Anaconda3\\lib\\site-packages\\sklearn\\utils\\validation.py:724: DataConversionWarning: A column-vector y was passed when a 1d array was expected. Please change the shape of y to (n_samples, ), for example using ravel().\n",
      "  y = column_or_1d(y, warn=True)\n"
     ]
    }
   ],
   "source": [
    "# Feature selection dengan Recursive feature elimination\n",
    "model = LinearRegression()\n",
    "rfe = RFE(model, 12)\n",
    "rfe = rfe.fit(X2train,Y2train)\n",
    "print(rfe.support_)\n",
    "print(rfe.ranking_)"
   ]
  },
  {
   "cell_type": "markdown",
   "metadata": {},
   "source": [
    "RFE Memilih semua 12 fitur yang telah saya pilih untuk digunakan untuk memprediksi harga dengan linearRegression"
   ]
  },
  {
   "cell_type": "code",
   "execution_count": 51,
   "metadata": {
    "scrolled": false
   },
   "outputs": [
    {
     "name": "stdout",
     "output_type": "stream",
     "text": [
      "[ True  True  True  True  True  True  True  True  True  True  True  True]\n",
      "[1 1 1 1 1 1 1 1 1 1 1 1]\n"
     ]
    },
    {
     "name": "stderr",
     "output_type": "stream",
     "text": [
      "C:\\Users\\Albert\\Anaconda3\\lib\\site-packages\\sklearn\\utils\\validation.py:724: DataConversionWarning: A column-vector y was passed when a 1d array was expected. Please change the shape of y to (n_samples, ), for example using ravel().\n",
      "  y = column_or_1d(y, warn=True)\n",
      "C:\\Users\\Albert\\Anaconda3\\lib\\site-packages\\sklearn\\model_selection\\_split.py:1978: FutureWarning: The default value of cv will change from 3 to 5 in version 0.22. Specify it explicitly to silence this warning.\n",
      "  warnings.warn(CV_WARNING, FutureWarning)\n"
     ]
    }
   ],
   "source": [
    "#Feature selection dengan Recursive Feature Elimination and cross validated selection\n",
    "rfecv = RFECV(model, 12)\n",
    "rfecv = rfecv.fit(X2train,Y2train)\n",
    "print(rfecv.support_)\n",
    "print(rfecv.ranking_)"
   ]
  },
  {
   "cell_type": "markdown",
   "metadata": {},
   "source": [
    "RFECV Memilih semua 12 fitur yang telah saya pilih untuk digunakan untuk memprediksi harga dengan linearRegression"
   ]
  },
  {
   "cell_type": "code",
   "execution_count": 52,
   "metadata": {},
   "outputs": [
    {
     "name": "stdout",
     "output_type": "stream",
     "text": [
      "Nilai Model linear regression classifier 0.06396956021966005\n"
     ]
    }
   ],
   "source": [
    "#implement LinearRegression\n",
    "from sklearn import metrics\n",
    "model.fit(X2train, Y2train)\n",
    "Y2pred = model.predict(X2test)\n",
    "print('Nilai Model linear regression classifier',model.score(X2,Y2))"
   ]
  },
  {
   "cell_type": "code",
   "execution_count": 53,
   "metadata": {},
   "outputs": [
    {
     "name": "stdout",
     "output_type": "stream",
     "text": [
      "Mean Absolute Error (MAE):  22932.175862232827\n",
      "Mean Squared Error (MSE):  4879692864.437112\n",
      "R2:  0.049091617420255806\n"
     ]
    }
   ],
   "source": [
    "print(\"Mean Absolute Error (MAE): \", mean_absolute_error(Y2test, Y2pred))\n",
    "print(\"Mean Squared Error (MSE): \", mean_squared_error(Y2test, Y2pred))\n",
    "print(\"R2: \", r2_score(Y2test, Y2pred))"
   ]
  },
  {
   "cell_type": "code",
   "execution_count": 54,
   "metadata": {},
   "outputs": [],
   "source": [
    "X2trainnew,X2testnew,Y2trainnew,Y2testnew = train_test_split(X2,Y2,test_size = 0.2)"
   ]
  },
  {
   "cell_type": "code",
   "execution_count": 55,
   "metadata": {
    "scrolled": true
   },
   "outputs": [
    {
     "name": "stderr",
     "output_type": "stream",
     "text": [
      "C:\\Users\\Albert\\Anaconda3\\lib\\site-packages\\sklearn\\utils\\validation.py:724: DataConversionWarning: A column-vector y was passed when a 1d array was expected. Please change the shape of y to (n_samples, ), for example using ravel().\n",
      "  y = column_or_1d(y, warn=True)\n",
      "C:\\Users\\Albert\\Anaconda3\\lib\\site-packages\\sklearn\\linear_model\\logistic.py:432: FutureWarning: Default solver will be changed to 'lbfgs' in 0.22. Specify a solver to silence this warning.\n",
      "  FutureWarning)\n",
      "C:\\Users\\Albert\\Anaconda3\\lib\\site-packages\\sklearn\\linear_model\\logistic.py:469: FutureWarning: Default multi_class will be changed to 'auto' in 0.22. Specify the multi_class option to silence this warning.\n",
      "  \"this warning.\", FutureWarning)\n"
     ]
    },
    {
     "name": "stdout",
     "output_type": "stream",
     "text": [
      "[ True  True  True  True  True  True  True  True  True  True  True  True]\n",
      "[1 1 1 1 1 1 1 1 1 1 1 1]\n"
     ]
    }
   ],
   "source": [
    "model2 = LogisticRegression()\n",
    "rfe = RFE(model2, 12)\n",
    "rfe = rfe.fit(X2trainnew,Y2trainnew)\n",
    "print(rfe.support_)\n",
    "print(rfe.ranking_)"
   ]
  },
  {
   "cell_type": "markdown",
   "metadata": {},
   "source": [
    "RFE Memilih semua 12 fitur yang telah saya pilih untuk digunakan untuk memprediksi harga dengan logisticRegression"
   ]
  },
  {
   "cell_type": "code",
   "execution_count": 56,
   "metadata": {},
   "outputs": [
    {
     "name": "stderr",
     "output_type": "stream",
     "text": [
      "C:\\Users\\Albert\\Anaconda3\\lib\\site-packages\\sklearn\\utils\\validation.py:724: DataConversionWarning: A column-vector y was passed when a 1d array was expected. Please change the shape of y to (n_samples, ), for example using ravel().\n",
      "  y = column_or_1d(y, warn=True)\n",
      "C:\\Users\\Albert\\Anaconda3\\lib\\site-packages\\sklearn\\model_selection\\_split.py:1978: FutureWarning: The default value of cv will change from 3 to 5 in version 0.22. Specify it explicitly to silence this warning.\n",
      "  warnings.warn(CV_WARNING, FutureWarning)\n",
      "C:\\Users\\Albert\\Anaconda3\\lib\\site-packages\\sklearn\\model_selection\\_split.py:657: Warning: The least populated class in y has only 1 members, which is too few. The minimum number of members in any class cannot be less than n_splits=3.\n",
      "  % (min_groups, self.n_splits)), Warning)\n",
      "C:\\Users\\Albert\\Anaconda3\\lib\\site-packages\\sklearn\\linear_model\\logistic.py:432: FutureWarning: Default solver will be changed to 'lbfgs' in 0.22. Specify a solver to silence this warning.\n",
      "  FutureWarning)\n",
      "C:\\Users\\Albert\\Anaconda3\\lib\\site-packages\\sklearn\\linear_model\\logistic.py:469: FutureWarning: Default multi_class will be changed to 'auto' in 0.22. Specify the multi_class option to silence this warning.\n",
      "  \"this warning.\", FutureWarning)\n",
      "C:\\Users\\Albert\\Anaconda3\\lib\\site-packages\\sklearn\\linear_model\\logistic.py:432: FutureWarning: Default solver will be changed to 'lbfgs' in 0.22. Specify a solver to silence this warning.\n",
      "  FutureWarning)\n",
      "C:\\Users\\Albert\\Anaconda3\\lib\\site-packages\\sklearn\\linear_model\\logistic.py:469: FutureWarning: Default multi_class will be changed to 'auto' in 0.22. Specify the multi_class option to silence this warning.\n",
      "  \"this warning.\", FutureWarning)\n",
      "C:\\Users\\Albert\\Anaconda3\\lib\\site-packages\\sklearn\\linear_model\\logistic.py:432: FutureWarning: Default solver will be changed to 'lbfgs' in 0.22. Specify a solver to silence this warning.\n",
      "  FutureWarning)\n",
      "C:\\Users\\Albert\\Anaconda3\\lib\\site-packages\\sklearn\\linear_model\\logistic.py:469: FutureWarning: Default multi_class will be changed to 'auto' in 0.22. Specify the multi_class option to silence this warning.\n",
      "  \"this warning.\", FutureWarning)\n",
      "C:\\Users\\Albert\\Anaconda3\\lib\\site-packages\\sklearn\\linear_model\\logistic.py:432: FutureWarning: Default solver will be changed to 'lbfgs' in 0.22. Specify a solver to silence this warning.\n",
      "  FutureWarning)\n",
      "C:\\Users\\Albert\\Anaconda3\\lib\\site-packages\\sklearn\\linear_model\\logistic.py:469: FutureWarning: Default multi_class will be changed to 'auto' in 0.22. Specify the multi_class option to silence this warning.\n",
      "  \"this warning.\", FutureWarning)\n",
      "C:\\Users\\Albert\\Anaconda3\\lib\\site-packages\\sklearn\\linear_model\\logistic.py:432: FutureWarning: Default solver will be changed to 'lbfgs' in 0.22. Specify a solver to silence this warning.\n",
      "  FutureWarning)\n",
      "C:\\Users\\Albert\\Anaconda3\\lib\\site-packages\\sklearn\\linear_model\\logistic.py:469: FutureWarning: Default multi_class will be changed to 'auto' in 0.22. Specify the multi_class option to silence this warning.\n",
      "  \"this warning.\", FutureWarning)\n",
      "C:\\Users\\Albert\\Anaconda3\\lib\\site-packages\\sklearn\\linear_model\\logistic.py:432: FutureWarning: Default solver will be changed to 'lbfgs' in 0.22. Specify a solver to silence this warning.\n",
      "  FutureWarning)\n",
      "C:\\Users\\Albert\\Anaconda3\\lib\\site-packages\\sklearn\\linear_model\\logistic.py:469: FutureWarning: Default multi_class will be changed to 'auto' in 0.22. Specify the multi_class option to silence this warning.\n",
      "  \"this warning.\", FutureWarning)\n",
      "C:\\Users\\Albert\\Anaconda3\\lib\\site-packages\\sklearn\\linear_model\\logistic.py:432: FutureWarning: Default solver will be changed to 'lbfgs' in 0.22. Specify a solver to silence this warning.\n",
      "  FutureWarning)\n",
      "C:\\Users\\Albert\\Anaconda3\\lib\\site-packages\\sklearn\\linear_model\\logistic.py:469: FutureWarning: Default multi_class will be changed to 'auto' in 0.22. Specify the multi_class option to silence this warning.\n",
      "  \"this warning.\", FutureWarning)\n",
      "C:\\Users\\Albert\\Anaconda3\\lib\\site-packages\\sklearn\\linear_model\\logistic.py:432: FutureWarning: Default solver will be changed to 'lbfgs' in 0.22. Specify a solver to silence this warning.\n",
      "  FutureWarning)\n",
      "C:\\Users\\Albert\\Anaconda3\\lib\\site-packages\\sklearn\\linear_model\\logistic.py:469: FutureWarning: Default multi_class will be changed to 'auto' in 0.22. Specify the multi_class option to silence this warning.\n",
      "  \"this warning.\", FutureWarning)\n"
     ]
    },
    {
     "name": "stdout",
     "output_type": "stream",
     "text": [
      "[ True  True  True  True  True  True  True  True  True  True  True  True]\n",
      "[1 1 1 1 1 1 1 1 1 1 1 1]\n"
     ]
    }
   ],
   "source": [
    "rfecv = RFECV(model2, 12)\n",
    "rfecv = rfecv.fit(X2trainnew,Y2trainnew)\n",
    "print(rfe.support_)\n",
    "print(rfe.ranking_)"
   ]
  },
  {
   "cell_type": "markdown",
   "metadata": {},
   "source": [
    "RFECV juga memilih ke 12 fitur yang telah saya pilih sebelumnya untuk memprediksi harga dengan logisticRegression"
   ]
  },
  {
   "cell_type": "code",
   "execution_count": 57,
   "metadata": {},
   "outputs": [
    {
     "name": "stderr",
     "output_type": "stream",
     "text": [
      "C:\\Users\\Albert\\Anaconda3\\lib\\site-packages\\sklearn\\linear_model\\logistic.py:432: FutureWarning: Default solver will be changed to 'lbfgs' in 0.22. Specify a solver to silence this warning.\n",
      "  FutureWarning)\n",
      "C:\\Users\\Albert\\Anaconda3\\lib\\site-packages\\sklearn\\utils\\validation.py:724: DataConversionWarning: A column-vector y was passed when a 1d array was expected. Please change the shape of y to (n_samples, ), for example using ravel().\n",
      "  y = column_or_1d(y, warn=True)\n",
      "C:\\Users\\Albert\\Anaconda3\\lib\\site-packages\\sklearn\\linear_model\\logistic.py:469: FutureWarning: Default multi_class will be changed to 'auto' in 0.22. Specify the multi_class option to silence this warning.\n",
      "  \"this warning.\", FutureWarning)\n"
     ]
    },
    {
     "name": "stdout",
     "output_type": "stream",
     "text": [
      "Nilai model logistic regression classifier 0.0992982456140351\n"
     ]
    }
   ],
   "source": [
    "#implement LogisticRegression\n",
    "from sklearn import metrics\n",
    "model2 = LogisticRegression()\n",
    "model2.fit(X2trainnew, Y2trainnew)\n",
    "Y2prednew = model2.predict(X2testnew)\n",
    "print('Nilai model logistic regression classifier',model2.score(X2,Y2))"
   ]
  },
  {
   "cell_type": "code",
   "execution_count": 58,
   "metadata": {},
   "outputs": [
    {
     "name": "stdout",
     "output_type": "stream",
     "text": [
      "Mean Absolute Error (MAE):  25473.954970760235\n",
      "Mean Squared Error (MSE):  8742574266.821638\n",
      "R2:  -0.0820390105092601\n"
     ]
    }
   ],
   "source": [
    "print(\"Mean Absolute Error (MAE): \", mean_absolute_error(Y2testnew, Y2prednew))\n",
    "print(\"Mean Squared Error (MSE): \", mean_squared_error(Y2testnew, Y2prednew))\n",
    "print(\"R2: \", r2_score(Y2testnew, Y2prednew))"
   ]
  },
  {
   "cell_type": "markdown",
   "metadata": {},
   "source": [
    "jadi dari hasil di atas dapat kita lihat bahwa nilai model/ accuracy dimiliki oleh logistic regression. Namun untuk R2 yang merupakan koefisien seberapa baik value prediksi \"fit\" di bandingkan dengan value original. jika kita lihat di atas kita dapat melihat bahwa  R2 dari linear regression adalah 0.05 sedangkan nilai R2 dari logistic regression adalah sekitar -0.15, hal ini membuktikan bahwa nilai prediksi yang di dapatkan dari logistic regression sangat tidak \"fit\" dengan nilai original, bahkan bisa di sebut berlawanan dengan nilai original yang ada. Karena itulah dapat di sebut bahwa linear regression lebih cocok untuk memprediksi nilai harga di banding logical regression "
   ]
  },
  {
   "cell_type": "markdown",
   "metadata": {},
   "source": [
    "# No 3,4,5"
   ]
  },
  {
   "cell_type": "markdown",
   "metadata": {},
   "source": [
    "feature selection"
   ]
  },
  {
   "cell_type": "code",
   "execution_count": 59,
   "metadata": {},
   "outputs": [],
   "source": [
    "# memasukkan data yang belum di feature engineering\n",
    "NO3 = newdata[[\"host_response_rate\",\"host_response_time\",\"host_acceptance_rate\",\"host_listings_count\",\"host_total_listings_count\",\"property_type\",\"room_type\",\"accommodates\",\"bathrooms\",\"bedrooms\",\"beds\",\"guests_included\",\"review_scores_rating\"]]\n",
    "X3 = newdata[[\"host_response_rate\",\"host_response_time\",\"host_acceptance_rate\",\"host_listings_count\",\"host_total_listings_count\",\"property_type\",\"room_type\",\"accommodates\",\"bathrooms\",\"bedrooms\",\"beds\",\"guests_included\"]]\n",
    "Y3 = newdata[[\"review_scores_rating\"]]"
   ]
  },
  {
   "cell_type": "markdown",
   "metadata": {},
   "source": [
    "Encoding merupakan salah satu metode feature selection yang memiliki fungsi untuk mengubah string string yang ada di dalam kolom menjadi kedalam bentuk numeric values. maka dari itu saya di sini menggunakan data yang belum saya feature engineering untuk tipe data dan ubah kedalam bentuk numeric di sini"
   ]
  },
  {
   "cell_type": "code",
   "execution_count": 60,
   "metadata": {},
   "outputs": [
    {
     "name": "stdout",
     "output_type": "stream",
     "text": [
      "       host_response_time\n",
      "1                       2\n",
      "2                       2\n",
      "3                       1\n",
      "4                       2\n",
      "5                       1\n",
      "...                   ...\n",
      "12889                   3\n",
      "12916                   3\n",
      "12932                   3\n",
      "12991                   3\n",
      "13001                   3\n",
      "\n",
      "[8550 rows x 1 columns]\n"
     ]
    },
    {
     "name": "stderr",
     "output_type": "stream",
     "text": [
      "C:\\Users\\Albert\\Anaconda3\\lib\\site-packages\\sklearn\\preprocessing\\label.py:235: DataConversionWarning: A column-vector y was passed when a 1d array was expected. Please change the shape of y to (n_samples, ), for example using ravel().\n",
      "  y = column_or_1d(y, warn=True)\n"
     ]
    }
   ],
   "source": [
    "from sklearn import preprocessing\n",
    "#labelEncoder\n",
    "encoder = preprocessing.LabelEncoder()\n",
    "# Fit encoder\n",
    "newdata[['host_response_time']]=encoder.fit_transform(newdata[['host_response_time']])\n",
    "print(newdata[['host_response_time']])"
   ]
  },
  {
   "cell_type": "markdown",
   "metadata": {},
   "source": [
    "disini dapat dilihat bahwa encoder mengubah data di tabel newdata kolom host response time dari yang sebelumnya berupa string menjadi kedalam bentuk numeric values"
   ]
  },
  {
   "cell_type": "code",
   "execution_count": 61,
   "metadata": {},
   "outputs": [
    {
     "name": "stdout",
     "output_type": "stream",
     "text": [
      "       property_type\n",
      "1                  2\n",
      "2                  2\n",
      "3                  2\n",
      "4                  2\n",
      "5                  2\n",
      "...              ...\n",
      "12889              2\n",
      "12916              2\n",
      "12932              2\n",
      "12991              2\n",
      "13001              2\n",
      "\n",
      "[8550 rows x 1 columns]\n"
     ]
    }
   ],
   "source": [
    "#labelEncoder\n",
    "encoder = preprocessing.LabelEncoder()\n",
    "# Fit encoder\n",
    "newdata[['property_type']]=encoder.fit_transform(newdata[['property_type']])\n",
    "print(newdata[['property_type']])"
   ]
  },
  {
   "cell_type": "code",
   "execution_count": 62,
   "metadata": {},
   "outputs": [
    {
     "name": "stdout",
     "output_type": "stream",
     "text": [
      "       room_type\n",
      "1              3\n",
      "2              3\n",
      "3              3\n",
      "4              3\n",
      "5              3\n",
      "...          ...\n",
      "12889          3\n",
      "12916          3\n",
      "12932          3\n",
      "12991          3\n",
      "13001          3\n",
      "\n",
      "[8550 rows x 1 columns]\n"
     ]
    }
   ],
   "source": [
    "#labelEncoder\n",
    "encoder = preprocessing.LabelEncoder()\n",
    "# Fit encoder\n",
    "newdata[['room_type']]=encoder.fit_transform(newdata[['room_type']])\n",
    "print(newdata[['room_type']])"
   ]
  },
  {
   "cell_type": "code",
   "execution_count": 63,
   "metadata": {},
   "outputs": [],
   "source": [
    "X3train,X3test,Y3train,Y3test = train_test_split(X3,Y3,test_size = 0.2)"
   ]
  },
  {
   "cell_type": "code",
   "execution_count": 64,
   "metadata": {},
   "outputs": [
    {
     "name": "stdout",
     "output_type": "stream",
     "text": [
      "Accuracy: 0.12923976608187135\n",
      "[[129   0   0 ...  15  14   2]\n",
      " [  1   0   0 ...   0   0   0]\n",
      " [  0   0   0 ...   0   0   0]\n",
      " ...\n",
      " [ 42   0   0 ...  13  13   2]\n",
      " [ 42   0   0 ...  10  11   5]\n",
      " [ 21   0   0 ...  10   7   4]]\n",
      "              precision    recall  f1-score   support\n",
      "\n",
      "         100       0.22      0.55      0.32       234\n",
      "          20       0.00      0.00      0.00         1\n",
      "          30       0.00      0.00      0.00         1\n",
      "          40       0.00      0.00      0.00         2\n",
      "          50       0.00      0.00      0.00         2\n",
      "          55       0.00      0.00      0.00         0\n",
      "          60       0.00      0.00      0.00         9\n",
      "          65       0.00      0.00      0.00         0\n",
      "          67       0.00      0.00      0.00         0\n",
      "          68       0.00      0.00      0.00         1\n",
      "          69       0.00      0.00      0.00         0\n",
      "          70       0.00      0.00      0.00        11\n",
      "          71       0.00      0.00      0.00         2\n",
      "          72       0.00      0.00      0.00         1\n",
      "          73       0.00      0.00      0.00        10\n",
      "          74       0.00      0.00      0.00         4\n",
      "          75       0.00      0.00      0.00         7\n",
      "          76       0.00      0.00      0.00         6\n",
      "          77       0.00      0.00      0.00         8\n",
      "          78       0.20      0.12      0.15         8\n",
      "          79       0.00      0.00      0.00         7\n",
      "          80       0.11      0.06      0.08        62\n",
      "          81       0.00      0.00      0.00        10\n",
      "          82       0.00      0.00      0.00        12\n",
      "          83       0.16      0.15      0.15        20\n",
      "          84       0.00      0.00      0.00        26\n",
      "          85       0.00      0.00      0.00        35\n",
      "          86       0.04      0.04      0.04        24\n",
      "          87       0.00      0.00      0.00        49\n",
      "          88       0.05      0.05      0.05        41\n",
      "          89       0.03      0.02      0.02        55\n",
      "          90       0.05      0.05      0.05        85\n",
      "          91       0.13      0.09      0.11        67\n",
      "          92       0.12      0.06      0.08        84\n",
      "          93       0.08      0.09      0.08       119\n",
      "          94       0.09      0.05      0.07       115\n",
      "          95       0.08      0.06      0.07       134\n",
      "          96       0.10      0.09      0.09       137\n",
      "          97       0.12      0.10      0.11       132\n",
      "          98       0.12      0.09      0.10       119\n",
      "          99       0.14      0.06      0.08        70\n",
      "\n",
      "    accuracy                           0.13      1710\n",
      "   macro avg       0.04      0.04      0.04      1710\n",
      "weighted avg       0.10      0.13      0.10      1710\n",
      "\n"
     ]
    },
    {
     "name": "stderr",
     "output_type": "stream",
     "text": [
      "C:\\Users\\Albert\\Anaconda3\\lib\\site-packages\\ipykernel_launcher.py:2: DataConversionWarning: A column-vector y was passed when a 1d array was expected. Please change the shape of y to (n_samples, ), for example using ravel().\n",
      "  \n",
      "C:\\Users\\Albert\\Anaconda3\\lib\\site-packages\\sklearn\\metrics\\classification.py:1437: UndefinedMetricWarning: Precision and F-score are ill-defined and being set to 0.0 in labels with no predicted samples.\n",
      "  'precision', 'predicted', average, warn_for)\n",
      "C:\\Users\\Albert\\Anaconda3\\lib\\site-packages\\sklearn\\metrics\\classification.py:1439: UndefinedMetricWarning: Recall and F-score are ill-defined and being set to 0.0 in labels with no true samples.\n",
      "  'recall', 'true', average, warn_for)\n"
     ]
    }
   ],
   "source": [
    "classifier = KNeighborsClassifier(n_neighbors = 7 )\n",
    "classifier.fit(X3train,Y3train)\n",
    "Y3pred = classifier.predict(X3test)\n",
    "print(\"Accuracy:\",accuracy_score(Y3test, Y3pred))\n",
    "print(confusion_matrix(Y3test,Y3pred))\n",
    "print(classification_report(Y3test,Y3pred))"
   ]
  },
  {
   "cell_type": "code",
   "execution_count": 65,
   "metadata": {},
   "outputs": [],
   "source": [
    "X4train,X4test,Y4train,Y4test = train_test_split(X3,Y3,test_size = 0.2)"
   ]
  },
  {
   "cell_type": "code",
   "execution_count": 66,
   "metadata": {},
   "outputs": [
    {
     "name": "stderr",
     "output_type": "stream",
     "text": [
      "C:\\Users\\Albert\\Anaconda3\\lib\\site-packages\\sklearn\\utils\\validation.py:724: DataConversionWarning: A column-vector y was passed when a 1d array was expected. Please change the shape of y to (n_samples, ), for example using ravel().\n",
      "  y = column_or_1d(y, warn=True)\n"
     ]
    },
    {
     "name": "stdout",
     "output_type": "stream",
     "text": [
      "Accuracy:  0.16783625730994153\n",
      "[[287   0   0 ...   0   0   0]\n",
      " [  3   0   0 ...   0   0   0]\n",
      " [  2   0   0 ...   0   0   0]\n",
      " ...\n",
      " [146   0   0 ...   0   0   0]\n",
      " [130   0   0 ...   0   0   0]\n",
      " [ 61   0   0 ...   0   0   0]]\n",
      "              precision    recall  f1-score   support\n",
      "\n",
      "         100       0.17      1.00      0.29       287\n",
      "          20       0.00      0.00      0.00         3\n",
      "          40       0.00      0.00      0.00         2\n",
      "          50       0.00      0.00      0.00         2\n",
      "          60       0.00      0.00      0.00         9\n",
      "          62       0.00      0.00      0.00         1\n",
      "          63       0.00      0.00      0.00         1\n",
      "          65       0.00      0.00      0.00         3\n",
      "          67       0.00      0.00      0.00         1\n",
      "          68       0.00      0.00      0.00         2\n",
      "          69       0.00      0.00      0.00         1\n",
      "          70       0.00      0.00      0.00         6\n",
      "          71       0.00      0.00      0.00         3\n",
      "          72       0.00      0.00      0.00         3\n",
      "          73       0.00      0.00      0.00         6\n",
      "          74       0.00      0.00      0.00         2\n",
      "          75       0.00      0.00      0.00         6\n",
      "          76       0.00      0.00      0.00        10\n",
      "          77       0.00      0.00      0.00         5\n",
      "          78       0.00      0.00      0.00         8\n",
      "          79       0.00      0.00      0.00         4\n",
      "          80       0.00      0.00      0.00        62\n",
      "          81       0.00      0.00      0.00        10\n",
      "          82       0.00      0.00      0.00        14\n",
      "          83       0.00      0.00      0.00        27\n",
      "          84       0.00      0.00      0.00        23\n",
      "          85       0.00      0.00      0.00        23\n",
      "          86       0.00      0.00      0.00        26\n",
      "          87       0.00      0.00      0.00        41\n",
      "          88       0.00      0.00      0.00        42\n",
      "          89       0.00      0.00      0.00        50\n",
      "          90       0.00      0.00      0.00        77\n",
      "          91       0.00      0.00      0.00        64\n",
      "          92       0.00      0.00      0.00        60\n",
      "          93       0.00      0.00      0.00       134\n",
      "          94       0.00      0.00      0.00        87\n",
      "          95       0.00      0.00      0.00       134\n",
      "          96       0.00      0.00      0.00       134\n",
      "          97       0.00      0.00      0.00       146\n",
      "          98       0.00      0.00      0.00       130\n",
      "          99       0.00      0.00      0.00        61\n",
      "\n",
      "    accuracy                           0.17      1710\n",
      "   macro avg       0.00      0.02      0.01      1710\n",
      "weighted avg       0.03      0.17      0.05      1710\n",
      "\n"
     ]
    },
    {
     "name": "stderr",
     "output_type": "stream",
     "text": [
      "C:\\Users\\Albert\\Anaconda3\\lib\\site-packages\\sklearn\\metrics\\classification.py:1437: UndefinedMetricWarning: Precision and F-score are ill-defined and being set to 0.0 in labels with no predicted samples.\n",
      "  'precision', 'predicted', average, warn_for)\n"
     ]
    }
   ],
   "source": [
    "classifier2 = SVC(kernel='linear')\n",
    "classifier2.fit(X4train, Y4train)\n",
    "Y4pred = classifier2.predict(X4test)\n",
    "print('Accuracy: ', metrics.accuracy_score(Y4test, Y4pred))\n",
    "print(confusion_matrix(Y4test,Y4pred))\n",
    "print(classification_report(Y4test,Y4pred))"
   ]
  },
  {
   "cell_type": "code",
   "execution_count": 67,
   "metadata": {},
   "outputs": [],
   "source": [
    "X5train,X5test,Y5train,Y5test = train_test_split(X3,Y3,test_size = 0.2)"
   ]
  },
  {
   "cell_type": "code",
   "execution_count": 68,
   "metadata": {},
   "outputs": [
    {
     "name": "stdout",
     "output_type": "stream",
     "text": [
      "Accuracy:  0.14619883040935672\n",
      "[[158   0   0 ...  11  12   8]\n",
      " [  1   0   0 ...   0   0   0]\n",
      " [  0   0   0 ...   0   0   0]\n",
      " ...\n",
      " [ 45   0   0 ...  15   8   6]\n",
      " [ 36   0   0 ...  12   5  10]\n",
      " [ 30   0   0 ...   9   8   8]]\n",
      "              precision    recall  f1-score   support\n",
      "\n",
      "         100       0.24      0.60      0.34       263\n",
      "          20       0.00      0.00      0.00         1\n",
      "          50       0.00      0.00      0.00         1\n",
      "          60       0.00      0.00      0.00         8\n",
      "          64       0.00      0.00      0.00         1\n",
      "          65       0.00      0.00      0.00         1\n",
      "          67       0.00      0.00      0.00         2\n",
      "          68       0.00      0.00      0.00         1\n",
      "          69       0.00      0.00      0.00         1\n",
      "          70       0.00      0.00      0.00         7\n",
      "          71       0.00      0.00      0.00         4\n",
      "          72       0.00      0.00      0.00         2\n",
      "          73       0.00      0.00      0.00        11\n",
      "          74       0.00      0.00      0.00         3\n",
      "          75       0.00      0.00      0.00         5\n",
      "          76       0.00      0.00      0.00         5\n",
      "          77       0.12      0.20      0.15         5\n",
      "          78       0.00      0.00      0.00         6\n",
      "          79       0.00      0.00      0.00         5\n",
      "          80       0.04      0.04      0.04        54\n",
      "          81       0.12      0.10      0.11        10\n",
      "          82       0.11      0.08      0.09        13\n",
      "          83       0.00      0.00      0.00        24\n",
      "          84       0.00      0.00      0.00        23\n",
      "          85       0.10      0.05      0.07        19\n",
      "          86       0.00      0.00      0.00        25\n",
      "          87       0.00      0.00      0.00        53\n",
      "          88       0.00      0.00      0.00        43\n",
      "          89       0.07      0.02      0.04        41\n",
      "          90       0.00      0.00      0.00       102\n",
      "          91       0.06      0.02      0.02        63\n",
      "          92       0.00      0.00      0.00        77\n",
      "          93       0.08      0.08      0.08       116\n",
      "          94       0.04      0.03      0.03       104\n",
      "          95       0.12      0.17      0.14       118\n",
      "          96       0.10      0.17      0.12       145\n",
      "          97       0.17      0.10      0.13       144\n",
      "          98       0.07      0.04      0.05       122\n",
      "          99       0.14      0.10      0.11        82\n",
      "\n",
      "    accuracy                           0.15      1710\n",
      "   macro avg       0.04      0.05      0.04      1710\n",
      "weighted avg       0.09      0.15      0.10      1710\n",
      "\n"
     ]
    },
    {
     "name": "stderr",
     "output_type": "stream",
     "text": [
      "C:\\Users\\Albert\\Anaconda3\\lib\\site-packages\\sklearn\\metrics\\classification.py:1437: UndefinedMetricWarning: Precision and F-score are ill-defined and being set to 0.0 in labels with no predicted samples.\n",
      "  'precision', 'predicted', average, warn_for)\n"
     ]
    }
   ],
   "source": [
    "classifier3 = DecisionTreeClassifier(random_state = 0,max_depth=12, min_samples_leaf=12)\n",
    "classifier3.fit(X5train, Y5train)\n",
    "Y5pred = classifier3.predict(X5test)\n",
    "print('Accuracy: ', metrics.accuracy_score(Y5test, Y5pred))\n",
    "print(confusion_matrix(Y5test,Y5pred))\n",
    "print(classification_report(Y5test,Y5pred))"
   ]
  },
  {
   "cell_type": "markdown",
   "metadata": {},
   "source": [
    "dari data data di atas didapat akurasi yang berbeda beda. Dengan SVC memiliki akurasi yang paling besar dengan akurasi sekitar 16%, akurasi terbesar kedua dimiliki oleh Classification tree (decision tree) dengan akurasi sebesar 15% dan yang paling kecil akurasinya dimiliki oleh Nearest Neighbour atau KNN dengan akurasi sekitar 13%. jadi dari akurasi akurasi di atas dapat di simpulkan bahwa klasifikasi terbaik yang dapat memprediksi nilai review score rating dengan fitur fitur yang saya miliki adalah dengan menggunakan model SVC(support vector classifier). Accuracy yang saya dapat juga termasuk kecil yakni di bawah 20%. Hal ini bisa terjadi karena fitur fitur utama yang saya pilih dari dataset yang saya miliki tidak memiliki pengaruh yang cukup besar terhadap review score rating. "
   ]
  },
  {
   "cell_type": "markdown",
   "metadata": {},
   "source": [
    "# No 7"
   ]
  },
  {
   "cell_type": "code",
   "execution_count": 69,
   "metadata": {},
   "outputs": [],
   "source": [
    "Feature = newdata[[\"host_response_rate\",\"host_response_time\",\"host_acceptance_rate\",\"host_listings_count\",\"host_total_listings_count\",\"property_type\",\"room_type\",\"accommodates\",\"bathrooms\",\"bedrooms\",\"beds\",\"guests_included\"]]"
   ]
  },
  {
   "cell_type": "code",
   "execution_count": 70,
   "metadata": {},
   "outputs": [
    {
     "name": "stdout",
     "output_type": "stream",
     "text": [
      "Labels :  [0 0 0 ... 0 0 0]\n",
      "Centre :  [[98.43256475  2.8809223  97.70578016  7.30653822  7.30653822  1.92056222\n",
      "   2.68019583  4.74273531  1.28766582  1.42261529  2.87144662  2.53474416]\n",
      " [98.31449631  2.93857494 98.56511057 93.13022113 93.13022113  1.86977887\n",
      "   2.53316953  3.57739558  1.1977887   1.08845209  1.94594595  1.78378378]\n",
      " [97.71838763  2.8625069  97.3158476  34.15019326 34.15019326  1.87299834\n",
      "   2.53672004  4.05908338  1.46852568  1.16454997  2.50358918  2.42241855]]\n",
      "Predict :  [0 0 0 ... 0 0 0]\n"
     ]
    }
   ],
   "source": [
    "#Kmean training\n",
    "Kmean = KMeans(n_clusters=3).fit(Feature)\n",
    "KmeanLabels = Kmean.labels_\n",
    "KmeanClusterCenters = Kmean.cluster_centers_\n",
    "KmeanPredict = Kmean.predict(Feature)\n",
    "print(\"Labels : \", KmeanLabels)\n",
    "print(\"Centre : \", KmeanClusterCenters)\n",
    "print(\"Predict : \", KmeanPredict)"
   ]
  },
  {
   "cell_type": "code",
   "execution_count": 71,
   "metadata": {},
   "outputs": [
    {
     "data": {
      "image/png": "[encoded data removed]",
      "text/plain": [
       "<Figure size 432x288 with 1 Axes>"
      ]
     },
     "metadata": {
      "needs_background": "light"
     },
     "output_type": "display_data"
    }
   ],
   "source": [
    "ClusterNumber = range(1, 20)\n",
    "Kmean = [KMeans(n_clusters=i) for i in ClusterNumber]\n",
    "Score = [Kmean[i].fit(Feature).score(Feature) for i in range(len(Kmean))]\n",
    "pyp.plot(ClusterNumber, Score)\n",
    "pyp.xlabel('Number of Clusters')\n",
    "pyp.ylabel('Score')\n",
    "pyp.title('Grafik Curve')\n",
    "pyp.show()"
   ]
  },
  {
   "cell_type": "code",
   "execution_count": 72,
   "metadata": {},
   "outputs": [],
   "source": [
    "# pyp.subplot(221)\n",
    "# sns.swarmplot(KmeanLabels , newdata[\"host_response_rate\"])\n",
    "# pyp.subplot(222)\n",
    "# sns.swarmplot(KmeanLabels , newdata[\"host_response_time\"])\n",
    "# pyp.subplot(223)\n",
    "# sns.swarmplot(KmeanLabels , newdata[\"host_acceptance_rate\"])\n",
    "# pyp.subplots_adjust(hspace = 0.5, wspace = 0.5)\n",
    "# pyp.rcParams[\"figure.figsize\"] = [16,9]\n",
    "# pyp.show()\n",
    "\n"
   ]
  },
  {
   "cell_type": "code",
   "execution_count": 73,
   "metadata": {},
   "outputs": [],
   "source": [
    "# pyp.subplot(224)\n",
    "# sns.swarmplot(KmeanLabels , newdata[\"host_listings_count\"])\n",
    "# pyp.subplot(225)\n",
    "# sns.swarmplot(KmeanLabels , newdata[\"host_total_listings_count\"])\n",
    "# pyp.subplot(226)\n",
    "# sns.swarmplot(KmeanLabels , newdata[\"property_type\"])\n",
    "# pyp.subplots_adjust(hspace = 0.5, wspace = 0.5)\n",
    "# pyp.rcParams[\"figure.figsize\"] = [16,9]\n",
    "# pyp.show()"
   ]
  },
  {
   "cell_type": "code",
   "execution_count": 74,
   "metadata": {},
   "outputs": [],
   "source": [
    "# pyp.subplot(227)\n",
    "# sns.swarmplot(KmeanLabels , newdata[\"room_type\"])\n",
    "# pyp.subplot(228)\n",
    "# sns.swarmplot(KmeanLabels , newdata[\"accommodates\"])\n",
    "# pyp.subplot(229)\n",
    "# sns.swarmplot(KmeanLabels , newdata[\"bathrooms\"])\n",
    "# pyp.subplots_adjust(hspace = 0.5, wspace = 0.5)\n",
    "# pyp.rcParams[\"figure.figsize\"] = [16,9]\n",
    "# pyp.show()"
   ]
  },
  {
   "cell_type": "code",
   "execution_count": 75,
   "metadata": {},
   "outputs": [],
   "source": [
    "# pyp.subplot(230)\n",
    "# sns.swarmplot(KmeanLabels , newdata[\"bedrooms\"])\n",
    "# pyp.subplot(231)\n",
    "# sns.swarmplot(KmeanLabels , newdata[\"beds\"])\n",
    "# pyp.subplot(232)\n",
    "# sns.swarmplot(KmeanLabels , newdata[\"guests_included\"])\n",
    "# pyp.subplots_adjust(hspace = 0.5, wspace = 0.5)\n",
    "# pyp.rcParams[\"figure.figsize\"] = [16,9]\n",
    "# pyp.show()"
   ]
  },
  {
   "cell_type": "code",
   "execution_count": 76,
   "metadata": {},
   "outputs": [
    {
     "data": {
      "image/png": "[encoded data removed]",
      "text/plain": [
       "<Figure size 432x288 with 1 Axes>"
      ]
     },
     "metadata": {
      "needs_background": "light"
     },
     "output_type": "display_data"
    },
    {
     "name": "stdout",
     "output_type": "stream",
     "text": [
      "KMeans model score:  0.5662242172550532\n"
     ]
    }
   ],
   "source": [
    "pyp.scatter(Feature.iloc[:, 0], Feature.iloc[:, 1], c = KmeanPredict)\n",
    "pyp.scatter(KmeanClusterCenters[:, 0], KmeanClusterCenters[:, 1], c = \"r\", s=150, alpha=0.3);\n",
    "pyp.show()\n",
    "print(\"KMeans model score: \", silhouette_score(Feature, KmeanPredict))"
   ]
  },
  {
   "cell_type": "markdown",
   "metadata": {},
   "source": [
    "# N0 6"
   ]
  },
  {
   "cell_type": "code",
   "execution_count": 77,
   "metadata": {},
   "outputs": [
    {
     "name": "stdout",
     "output_type": "stream",
     "text": [
      "Predict :  [0 0 0 ... 2 2 2]\n"
     ]
    }
   ],
   "source": [
    "Gauss = GaussianMixture(n_components=3).fit(Feature)\n",
    "GaussPredict = Gauss.predict(Feature)\n",
    "print(\"Predict : \", GaussPredict)"
   ]
  },
  {
   "cell_type": "code",
   "execution_count": 78,
   "metadata": {},
   "outputs": [
    {
     "data": {
      "image/png": "[encoded data removed]",
      "text/plain": [
       "<Figure size 432x288 with 1 Axes>"
      ]
     },
     "metadata": {
      "needs_background": "light"
     },
     "output_type": "display_data"
    },
    {
     "name": "stdout",
     "output_type": "stream",
     "text": [
      "Gauss model score:  -0.062188469181438194\n"
     ]
    }
   ],
   "source": [
    "pyp.scatter(Feature.iloc[:, 0], Feature.iloc[:, 1], c = GaussPredict)\n",
    "pyp.show()\n",
    "print(\"Gauss model score: \", silhouette_score(Feature, GaussPredict))"
   ]
  },
  {
   "cell_type": "markdown",
   "metadata": {},
   "source": [
    "dari persebaran data dengan dua model di atas dapat dilihat bahwa keduanya memiliki kemiripan yang hampir mendekati 100% namun pada model Kmeans terdapat dua titik merah yang juga merupakan center dari feature feature yang ada di dalam fitur fitur yang saya pilih sedangkan gauss mixture model tidak ada karena model tersebut memang tidak memiliki library untuk mencari centre dari fitur fitur yang ada. dan juga dari model score di atas dapat dilihat bahwa model score dari kmean adalah 56% yang adalah suatu hasil yang cukup bagus untuk sebuah model clustering, sedangkan untuk gauss mixture model ia mendapat score -6%. Nilai Minus ini menandakan bahwa model ini sangat tidak cocok untuk memetakan persebaran data dari fitur fitur ini. "
   ]
  }
 ],
 "metadata": {
  "kernelspec": {
   "display_name": "Python 3",
   "language": "python",
   "name": "python3"
  },
  "language_info": {
   "codemirror_mode": {
    "name": "ipython",
    "version": 3
   },
   "file_extension": ".py",
   "mimetype": "text/x-python",
   "name": "python",
   "nbconvert_exporter": "python",
   "pygments_lexer": "ipython3",
   "version": "3.7.4"
  }
 },
 "nbformat": 4,
 "nbformat_minor": 2
}
